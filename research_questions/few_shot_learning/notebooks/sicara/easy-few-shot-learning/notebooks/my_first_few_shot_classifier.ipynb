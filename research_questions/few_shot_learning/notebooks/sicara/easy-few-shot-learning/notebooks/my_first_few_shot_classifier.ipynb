{
 "cells": [
  {
   "cell_type": "markdown",
   "metadata": {
    "collapsed": false,
    "id": "CDlQJEY27Krj",
    "pycharm": {
     "name": "#%% md\n"
    }
   },
   "source": [
    "# Your own few-shot classification model ready in 15mn with PyTorch\n",
    "\n",
    "[![Open In Colab](https://colab.research.google.com/assets/colab-badge.svg)](https://colab.research.google.com/github/sicara/easy-few-shot-learning/blob/master/notebooks/my_first_few_shot_classifier.ipynb)\n",
    "\n",
    "I have been working on few-shot classification for a while now. The more I talk about it, the more the people around me seem to feel that it's some kind of dark magic. Even sadder: I noticed that very few actually used it on their projects. I think that's too bad, so I decided to make a tutorial so you'll have no excuse to deprive yourself of the power of few-shot learning methods.\n",
    "\n",
    "In 15 minutes and just a few lines of code, we are going to implement\n",
    "the [Prototypical Networks](https://arxiv.org/abs/1703.05175). It's the favorite method of\n",
    "many few-shot learning researchers (~2000 citations in 3 years), because 1) it works well,\n",
    "and 2) it's incredibly easy to grasp and to implement."
   ]
  },
  {
   "cell_type": "markdown",
   "metadata": {
    "collapsed": false,
    "pycharm": {
     "name": "#%% md\n"
    }
   },
   "source": [
    "## Discovering Prototypical Networks\n",
    "First, let's install the [tutorial GitHub repository](https://github.com/sicara/easy-few-shot-learning) and import some packages. If you're on Colab right now, you should also check that you're using a GPU (Edit > Notebook settings)."
   ]
  },
  {
   "cell_type": "code",
   "execution_count": 1,
   "metadata": {
    "collapsed": false,
    "pycharm": {
     "name": "#%%\n"
    }
   },
   "outputs": [],
   "source": [
    "import torch\n",
    "from torch import nn, optim\n",
    "from torch.utils.data import DataLoader\n",
    "from torchvision import transforms\n",
    "from torchvision.datasets import Omniglot\n",
    "from torchvision.models import resnet18\n",
    "from tqdm import tqdm\n",
    "\n",
    "from easyfsl.samplers import TaskSampler\n",
    "from easyfsl.utils import plot_images, sliding_average"
   ]
  },
  {
   "cell_type": "markdown",
   "metadata": {
    "collapsed": false,
    "pycharm": {
     "name": "#%% md\n"
    }
   },
   "source": [
    "Now, we need a dataset. I suggest we use [Omniglot](https://github.com/brendenlake/omniglot), a popular MNIST-like benchmark\n",
    "for few-shot classification. It contains 1623 characters from 50 different alphabets. Each character has been written by\n",
    "20 different people. \n",
    "\n",
    "Bonus: it's part of the `torchivision` package, so it's very easy to download\n",
    "and work with."
   ]
  },
  {
   "cell_type": "code",
   "execution_count": 2,
   "metadata": {
    "collapsed": false,
    "pycharm": {
     "name": "#%%\n"
    }
   },
   "outputs": [
    {
     "name": "stderr",
     "output_type": "stream",
     "text": [
      "100%|██████████| 9.46M/9.46M [00:03<00:00, 2.85MB/s]\n",
      "100%|██████████| 6.46M/6.46M [00:00<00:00, 7.19MB/s]\n"
     ]
    }
   ],
   "source": [
    "image_size = 28\n",
    "\n",
    "# NB: background=True selects the train set, background=False selects the test set\n",
    "# It's the nomenclature from the original paper, we just have to deal with it\n",
    "\n",
    "train_set = Omniglot(\n",
    "    root=\"./data\",\n",
    "    background=True,\n",
    "    transform=transforms.Compose(\n",
    "        [\n",
    "            transforms.Grayscale(num_output_channels=3),\n",
    "            transforms.RandomResizedCrop(image_size),\n",
    "            transforms.RandomHorizontalFlip(),\n",
    "            transforms.ToTensor(),\n",
    "        ]\n",
    "    ),\n",
    "    download=True,\n",
    ")\n",
    "test_set = Omniglot(\n",
    "    root=\"./data\",\n",
    "    background=False,\n",
    "    transform=transforms.Compose(\n",
    "        [\n",
    "            # Omniglot images have 1 channel, but our model will expect 3-channel images\n",
    "            transforms.Grayscale(num_output_channels=3),\n",
    "            transforms.Resize([int(image_size * 1.15), int(image_size * 1.15)]),\n",
    "            transforms.CenterCrop(image_size),\n",
    "            transforms.ToTensor(),\n",
    "        ]\n",
    "    ),\n",
    "    download=True,\n",
    ")"
   ]
  },
  {
   "cell_type": "markdown",
   "metadata": {
    "collapsed": false,
    "pycharm": {
     "name": "#%% md\n"
    }
   },
   "source": [
    "Let's take some time to grasp what few-shot classification is. Simply put, in a few-shot classification task, you have a labeled support set (which kind of acts\n",
    "like a catalog) and query set. For each image of the query set, we want to predict a label from the\n",
    "labels present in the support set. A few-shot classification model has to use the information from the\n",
    "support set in order to classify query images. We say *few-shot* when the support set contains very\n",
    "few images for each label (typically less than 10). The figure below shows a 3-way 2-shots classification task. \"3-way\" means \"3 different classes\" and \"2-shots\" means \"2 examples per class\".\n",
    "We expect a model that has never seen any Saint-Bernard, Pug or Labrador during its training to successfully\n",
    "predict the query labels. The support set is the only information that the model has regarding what a Saint-Bernard,\n",
    "a Pug or a Labrador can be.\n",
    "\n",
    "![few-shot classification task](https://images.ctfassets.net/be04ylp8y0qc/bZhboqYXfYeW4I88xmMNv/7c5efdc368206feaad045c674b1ced95/1_AteD0yXLkQ1BbjQTB3Ytwg.png?fm=webp)\n",
    "\n",
    "Most few-shot classification methods are *metric-based*. It works in two phases : 1) they use a CNN to project both\n",
    "support and query images into a feature space, and 2) they classify query images by comparing them to support images.\n",
    "If, in the feature space, an image is closer to pugs than it is to labradors and Saint-Bernards, we will guess that\n",
    "it's a pug.\n",
    "\n",
    "From there, we have two challenges :\n",
    "\n",
    "1. Find the good feature space. This is what convolutional networks are for. A CNN is basically a function that takes an image as input and outputs a representation (or *embedding*) of this image in a given feature space. The challenge here is to have a CNN that will\n",
    "project images of the same class into representations that are close to each other, even if it has not been trained\n",
    "on objects of this class.\n",
    "2. Find a good way to compare the representations in the feature space. This is the job of Prototypical Networks.\n",
    "\n",
    "\n",
    "![Prototypical classification](https://images.ctfassets.net/be04ylp8y0qc/45M9UcUp6KnzwDaBHeGZb7/bb2dcda5942ee7320600125ac2310af6/0_M0GSRZri859fGo48.png?fm=webp)\n",
    "\n",
    "From the support set, Prototypical Networks compute a prototype for each class, which is the mean of all embeddings\n",
    "of support images from this class. Then, each query is simply classified as the nearest prototype in the feature space,\n",
    "with respect to euclidean distance.\n",
    "\n",
    "If you want to learn more about how this works, I explain it\n",
    "[there](https://www.sicara.fr/blog-technique/few-shot-image-classification-meta-learning).\n",
    "But now, let's get to coding.\n",
    "In the code below (modified from [this](https://github.com/sicara/easy-few-shot-learning/blob/master/easyfsl/methods/prototypical_networks.py)), we simply define Prototypical Networks as a torch module, with a `forward()` method.\n",
    "You may notice 2 things.\n",
    "\n",
    "1. We initiate `PrototypicalNetworks` with a *backbone*. This is the feature extractor we were talking about.\n",
    "Here, we use as backbone a ResNet18 pretrained on ImageNet, with its head chopped off and replaced by a `Flatten`\n",
    "layer. The output of the backbone, for an input image, will be a 512-dimensional feature vector.\n",
    "2. The forward method doesn't only take one input tensor, but 3: in order to predict the labels of query images,\n",
    "we also need support images and labels as inputs of the model.\n",
    "\n",
    "\n",
    "---\n",
    "\n",
    "## Summary (NL)\n",
    "\n",
    "In few-shot classificatie heb je twee verzamelingen:\n",
    "\n",
    "- **Support set:** een klein aantal voorbeeldplaatjes per klasse (alsoortgelijk aan een catalogus).\n",
    "- **Query set:** nieuwe plaatjes waarvan je wilt weten bij welke klasse ze horen.\n",
    "\n",
    "Few-shot betekent dat je maar heel weinig voorbeelden hebt per klasse (minder dan 10).\n",
    "\n",
    "*Voorbeeld:* een 3-way 2-shot taak betekent dat je 3 klassen hebt (bijv. Labrador, Sint-Bernard, Mopshond), met 2 voorbeelden per klasse in de support set.\n",
    "\n",
    "Het model moet leren de query-afbeeldingen juist te classificeren, ook al heeft het die hondenrassen nog nooit eerder gezien.\n",
    "\n",
    "#### Afbeelding 1 (support set vs. query set):\n",
    "\n",
    "- **Links:** de support set met 3 klassen (Labrador, Sint-Bernard en Mopshond), elk met 2 voorbeeldfoto’s (2 shots).\n",
    "- **Rechts:** de query set met nieuwe afbeeldingen van dezelfde rassen. Het model moet deze correct herkennen met alleen de voorbeelden uit de support set als referentie.\n",
    "\n",
    "\n",
    "#### Afbeelding 2 (prototypical classification):\n",
    "\n",
    "Elke zwarte stip (c1, c2, c3) is een prototype (het gemiddelde van de support-afbeeldingen van die klasse).\n",
    "\n",
    "De kleine gekleurde stippen zijn de voorbeeldafbeeldingen per klasse.\n",
    "\n",
    "Het witte punt (x) is een query-afbeelding. Deze wordt ingedeeld bij de dichtstbijzijnde prototype.\n",
    "\n",
    "\n",
    "### Prototypical Networks en backbone\n",
    "Prototypical Networks berekenen voor elke klasse een `prototype:` het *gemiddelde* van de support-embeddings.\n",
    "\n",
    "Een query wordt geclassificeerd als de klasse waarvan het prototype het dichtstbij ligt (met euclidische afstand).\n",
    "\n",
    "Het model gebruikt een backbone (hier een ResNet18, voorgetraind op ImageNet) om de beelden om te zetten naar een vector van 512 waarden.\n",
    "\n",
    "Om query-labels te voorspellen, heeft het model dus drie inputs nodig: support-afbeeldingen, support-labels en query-afbeeldingen."
   ]
  },
  {
   "cell_type": "code",
   "execution_count": 4,
   "metadata": {
    "collapsed": false,
    "pycharm": {
     "name": "#%%\n"
    }
   },
   "outputs": [
    {
     "name": "stdout",
     "output_type": "stream",
     "text": [
      "Using device: cpu\n"
     ]
    }
   ],
   "source": [
    "import torch\n",
    "import torch.nn as nn\n",
    "from torchvision.models import resnet18, ResNet18_Weights\n",
    "\n",
    "# 1) Kies device veilig\n",
    "device = torch.device(\"cuda\" if torch.cuda.is_available() else \"cpu\")\n",
    "print(\"Using device:\", device)\n",
    "\n",
    "# 2) Backbone: neem de 512-dim embedding (penultimate layer)\n",
    "backbone = resnet18(weights=ResNet18_Weights.IMAGENET1K_V1)\n",
    "backbone.fc = nn.Identity()  # i.p.v. Flatten: we willen de feature vector na avgpool (dim=512)\n",
    "backbone = backbone.to(device)\n",
    "backbone.eval()  # (optioneel) als je alleen inference doet\n",
    "\n",
    "class PrototypicalNetworks(nn.Module):\n",
    "    def __init__(self, backbone: nn.Module):\n",
    "        super().__init__()\n",
    "        self.backbone = backbone\n",
    "\n",
    "    def forward(\n",
    "        self,\n",
    "        support_images: torch.Tensor,\n",
    "        support_labels: torch.Tensor,\n",
    "        query_images: torch.Tensor,\n",
    "    ):\n",
    "        \"\"\"\n",
    "        Geeft (scores, class_ids) terug:\n",
    "        - scores: [num_query, n_way] (hogere score = dichter bij prototype)\n",
    "        - class_ids: tensor met de originele labelwaarden in dezelfde volgorde als kolommen in scores\n",
    "        \"\"\"\n",
    "        # features\n",
    "        z_support = self.backbone(support_images)   # [Ns, D]\n",
    "        z_query   = self.backbone(query_images)     # [Nq, D]\n",
    "\n",
    "        # zorg dat labels uniek en gesorteerd zijn, en NIET aannemen dat ze 0..n-1 zijn\n",
    "        class_ids = torch.unique(support_labels)    # bv. tensor([3,7,9])\n",
    "        # bouw prototypes: mean per class\n",
    "        prototypes = torch.stack([\n",
    "            z_support[support_labels == c].mean(dim=0)\n",
    "            for c in class_ids\n",
    "        ])                                         # [n_way, D]\n",
    "\n",
    "        # cdist verwacht [Nq, D] en [n_way, D] -> output [Nq, n_way]\n",
    "        dists = torch.cdist(z_query, prototypes)\n",
    "        scores = -dists\n",
    "        return scores, class_ids\n",
    "\n",
    "model = PrototypicalNetworks(backbone).to(device)"
   ]
  },
  {
   "cell_type": "markdown",
   "metadata": {
    "collapsed": false,
    "pycharm": {
     "name": "#%% md\n"
    }
   },
   "source": [
    "Now we have a model! Note that we used a pretrained feature extractor,\n",
    "so our model should already be up and running. Let's see that.\n",
    "\n",
    "Here we create a dataloader that will feed few-shot classification tasks to our model.\n",
    "But a regular PyTorch dataloader will feed batches of images, with no consideration for\n",
    "their label or whether they are support or query. We need 2 specific features in our case.\n",
    "\n",
    "1. We need images evenly distributed between a given number of classes.\n",
    "2. We need them split between support and query sets.\n",
    "\n",
    "For the first point, I wrote a custom sampler: it first samples `n_way` classes from the dataset,\n",
    "then it samples `n_shot + n_query` images for each class (for a total of `n_way * (n_shot + n_query)`\n",
    "images in each batch).\n",
    "For the second point, I have a custom collate function to replace the built-in PyTorch `collate_fn`.\n",
    "This baby feed each batch as the combination of 5 items:\n",
    "\n",
    "1. support images\n",
    "2. support labels between 0 and `n_way`\n",
    "3. query images\n",
    "4. query labels between 0 and `n_way`\n",
    "5. a mapping of each label in `range(n_way)` to its true class id in the dataset\n",
    "(it's not used by the model but it's very useful for us to know what the true class is)\n",
    "\n",
    "You can see that in PyTorch, a DataLoader is basically the combination of a sampler, a dataset and a collate function\n",
    "(and some multiprocessing voodoo): sampler says which items to fetch, the dataset says how to fetch them, and\n",
    "the collate function says how to present these items together. If you want to dive into these custom objects,\n",
    "they're [here](https://github.com/sicara/easy-few-shot-learning/tree/master/easyfsl/data_tools).\n",
    "\n",
    "---\n",
    "\n",
    "## Summary (NL)\n",
    "Nu we een model hebben, moeten we ook de data op de juiste manier aanleveren.\n",
    "\n",
    "Een gewone PyTorch DataLoader is niet genoeg, want die maakt geen onderscheid tussen support en query.\n",
    "\n",
    "Daarom zijn er twee aanpassingen nodig:\n",
    "\n",
    "1. **Sampler:** kiest `n_way` klassen en haalt daar `n_shot` + `n_query` voorbeelden per klasse uit.\n",
    "2. **Collate function:** verdeelt de batch netjes in:\n",
    "    - support-afbeeldingen\n",
    "    - upport-labels\n",
    "    - query-afbeeldingen\n",
    "    - query-labels\n",
    "- een mapping naar de echte klassen in de dataset\n",
    "\n",
    "Zo krijgt het model bij elke batch een volledige few-shot taak voorgeschoteld."
   ]
  },
  {
   "cell_type": "code",
   "execution_count": 10,
   "metadata": {
    "collapsed": false,
    "pycharm": {
     "name": "#%%\n"
    }
   },
   "outputs": [],
   "source": [
    "N_WAY = 5  # Number of classes in a task\n",
    "N_SHOT = 5  # Number of images per class in the support set\n",
    "N_QUERY = 10  # Number of images per class in the query set\n",
    "N_EVALUATION_TASKS = 100\n",
    "\n",
    "# The sampler needs a dataset with a \"get_labels\" method.\n",
    "# Met num_workers=0 mag dit een lambda blijven.\n",
    "test_set.get_labels = lambda: [\n",
    "    instance[1] for instance in test_set._flat_character_images\n",
    "]\n",
    "\n",
    "test_sampler = TaskSampler(\n",
    "    test_set, n_way=N_WAY, n_shot=N_SHOT, n_query=N_QUERY, n_tasks=N_EVALUATION_TASKS\n",
    ")\n",
    "\n",
    "test_loader = DataLoader(\n",
    "    test_set,\n",
    "    batch_sampler=test_sampler,\n",
    "    num_workers=0,          # Windows/notebook-vriendelijk (geen pickling)\n",
    "    pin_memory=False,       # Alleen handig als je naar CUDA kopieert\n",
    "    collate_fn=test_sampler.episodic_collate_fn,\n",
    ")"
   ]
  },
  {
   "cell_type": "markdown",
   "metadata": {
    "collapsed": false,
    "pycharm": {
     "name": "#%% md\n"
    }
   },
   "source": [
    "We created a dataloader that will feed us with 5-way 5-shot tasks (the most common setting in the litterature).\n",
    "Now, as every data scientist should do before launching opaque training scripts,\n",
    "let's take a look at our dataset."
   ]
  },
  {
   "cell_type": "code",
   "execution_count": 11,
   "metadata": {
    "collapsed": false,
    "pycharm": {
     "name": "#%%\n"
    }
   },
   "outputs": [
    {
     "data": {
      "image/png": "[encoded data removed]",
      "text/plain": [
       "<Figure size 640x480 with 1 Axes>"
      ]
     },
     "metadata": {},
     "output_type": "display_data"
    },
    {
     "data": {
      "image/png": "[encoded data removed]",
      "text/plain": [
       "<Figure size 640x480 with 1 Axes>"
      ]
     },
     "metadata": {},
     "output_type": "display_data"
    }
   ],
   "source": [
    "(\n",
    "    example_support_images,\n",
    "    example_support_labels,\n",
    "    example_query_images,\n",
    "    example_query_labels,\n",
    "    example_class_ids,\n",
    ") = next(iter(test_loader))\n",
    "\n",
    "plot_images(example_support_images, \"support images\", images_per_row=N_SHOT)\n",
    "plot_images(example_query_images, \"query images\", images_per_row=N_QUERY)"
   ]
  },
  {
   "cell_type": "markdown",
   "metadata": {
    "collapsed": false,
    "pycharm": {
     "name": "#%% md\n"
    }
   },
   "source": [
    "For both support and query set, you should have one line for each class.\n",
    "\n",
    "How does our model perform on this task?\n",
    "\n",
    "---\n",
    "\n",
    "#### Wat zien we hier?\n",
    "\n",
    "**Support images (eerste afbeelding):**\n",
    "\n",
    "Dit zijn de voorbeeldplaatjes waar het model van leert.\n",
    "\n",
    "Je ziet hier verschillende handgeschreven symbolen (afkomstig uit het Omniglot-dataset).\n",
    "\n",
    "Elke rij hoort bij één klasse (dus één soort symbool), met een paar voorbeelden ervan.\n",
    "\n",
    "**Query images (tweede afbeelding):**\n",
    "\n",
    "Dit zijn de testplaatjes die het model moet classificeren.\n",
    "\n",
    "Ze bevatten dezelfde soorten symbolen als in de support set, maar het zijn andere exemplaren (iets anders geschreven, dikker, dunner, schever).\n",
    "\n",
    "Het model moet elk query-symbool koppelen aan de juiste klasse uit de support set."
   ]
  },
  {
   "cell_type": "code",
   "execution_count": 14,
   "metadata": {
    "collapsed": false,
    "pycharm": {
     "name": "#%%\n"
    }
   },
   "outputs": [
    {
     "name": "stdout",
     "output_type": "stream",
     "text": [
      "Ground Truth / Predicted\n",
      "Angelic\\character04 / Angelic\\character04\n",
      "Angelic\\character04 / Angelic\\character04\n",
      "Angelic\\character04 / Angelic\\character03\n",
      "Angelic\\character04 / Angelic\\character03\n",
      "Angelic\\character04 / Angelic\\character04\n",
      "Angelic\\character04 / Angelic\\character04\n",
      "Angelic\\character04 / Angelic\\character04\n",
      "Angelic\\character04 / Angelic\\character04\n",
      "Angelic\\character04 / Angelic\\character04\n",
      "Angelic\\character04 / Angelic\\character04\n",
      "Angelic\\character03 / Angelic\\character03\n",
      "Angelic\\character03 / Angelic\\character01\n",
      "Angelic\\character03 / Angelic\\character03\n",
      "Angelic\\character03 / Angelic\\character03\n",
      "Angelic\\character03 / Angelic\\character03\n",
      "Angelic\\character03 / Angelic\\character01\n",
      "Angelic\\character03 / Angelic\\character03\n",
      "Angelic\\character03 / Angelic\\character03\n",
      "Angelic\\character03 / Angelic\\character03\n",
      "Angelic\\character03 / Angelic\\character01\n",
      "Angelic\\character02 / Angelic\\character02\n",
      "Angelic\\character02 / Angelic\\character02\n",
      "Angelic\\character02 / Angelic\\character02\n",
      "Angelic\\character02 / Angelic\\character02\n",
      "Angelic\\character02 / Angelic\\character02\n",
      "Angelic\\character02 / Angelic\\character02\n",
      "Angelic\\character02 / Angelic\\character02\n",
      "Angelic\\character02 / Angelic\\character02\n",
      "Angelic\\character02 / Angelic\\character02\n",
      "Angelic\\character02 / Angelic\\character02\n",
      "Angelic\\character05 / Angelic\\character01\n",
      "Angelic\\character05 / Angelic\\character05\n",
      "Angelic\\character05 / Angelic\\character01\n",
      "Angelic\\character05 / Angelic\\character05\n",
      "Angelic\\character05 / Angelic\\character05\n",
      "Angelic\\character05 / Angelic\\character05\n",
      "Angelic\\character05 / Angelic\\character05\n",
      "Angelic\\character05 / Angelic\\character05\n",
      "Angelic\\character05 / Angelic\\character05\n",
      "Angelic\\character05 / Angelic\\character05\n",
      "Angelic\\character01 / Angelic\\character01\n",
      "Angelic\\character01 / Angelic\\character01\n",
      "Angelic\\character01 / Angelic\\character01\n",
      "Angelic\\character01 / Angelic\\character01\n",
      "Angelic\\character01 / Angelic\\character01\n",
      "Angelic\\character01 / Angelic\\character01\n",
      "Angelic\\character01 / Angelic\\character01\n",
      "Angelic\\character01 / Angelic\\character05\n",
      "Angelic\\character01 / Angelic\\character01\n",
      "Angelic\\character01 / Angelic\\character01\n"
     ]
    }
   ],
   "source": [
    "import torch\n",
    "\n",
    "# Kies device (CPU als er geen CUDA is)\n",
    "device = torch.device(\"cuda\" if torch.cuda.is_available() else \"cpu\")\n",
    "model.to(device).eval()\n",
    "\n",
    "# Zet batch naar hetzelfde device\n",
    "support_images = example_support_images.to(device)\n",
    "support_labels = example_support_labels.to(device)\n",
    "query_images   = example_query_images.to(device)\n",
    "\n",
    "with torch.no_grad():\n",
    "    example_scores, support_class_ids = model(\n",
    "        support_images,\n",
    "        support_labels,\n",
    "        query_images,\n",
    "    )\n",
    "    example_scores = example_scores.detach()\n",
    "\n",
    "# Top-1 voorspelling per query (indices 0..N_WAY-1 binnen de episode)\n",
    "pred_idx = example_scores.argmax(dim=1)                     # [N_query_total]\n",
    "\n",
    "# Map indices -> dataset class IDs via support_class_ids (tensor)\n",
    "pred_dataset_ids = support_class_ids[pred_idx].cpu()        # [N_query_total]\n",
    "\n",
    "# Ground-truth: episodische labels 0..N_WAY-1 -> dataset class IDs\n",
    "gt_dataset_ids = support_class_ids[example_query_labels.long()].cpu()\n",
    "\n",
    "print(\"Ground Truth / Predicted\")\n",
    "for i in range(len(gt_dataset_ids)):\n",
    "    gt_name   = test_set._characters[gt_dataset_ids[i].item()]\n",
    "    pred_name = test_set._characters[pred_dataset_ids[i].item()]\n",
    "    print(f\"{gt_name} / {pred_name}\")"
   ]
  },
  {
   "cell_type": "markdown",
   "metadata": {
    "collapsed": false,
    "pycharm": {
     "name": "#%% md\n"
    }
   },
   "source": [
    "This doesn't look bad: keep in mind that the model was trained on very different images, and has only seen 5 examples for each class!\n",
    "\n",
    "Now that we have a first idea, let's see more precisely how good our model is."
   ]
  },
  {
   "cell_type": "code",
   "execution_count": 16,
   "metadata": {
    "collapsed": false,
    "pycharm": {
     "name": "#%%\n"
    }
   },
   "outputs": [
    {
     "name": "stderr",
     "output_type": "stream",
     "text": [
      "100%|██████████| 100/100 [00:18<00:00,  5.35it/s]"
     ]
    },
    {
     "name": "stdout",
     "output_type": "stream",
     "text": [
      "Model tested on 100 tasks. Accuracy: 85.26%\n"
     ]
    },
    {
     "name": "stderr",
     "output_type": "stream",
     "text": [
      "\n"
     ]
    }
   ],
   "source": [
    "def evaluate_on_one_task(\n",
    "    support_images: torch.Tensor,\n",
    "    support_labels: torch.Tensor,\n",
    "    query_images: torch.Tensor,\n",
    "    query_labels: torch.Tensor,\n",
    ") -> tuple[int, int]:\n",
    "    \"\"\"\n",
    "    Returns (#correct, #total) predictions for één episode.\n",
    "    Werkt zowel op CPU als GPU.\n",
    "    \"\"\"\n",
    "    device = next(model.parameters()).device  # zelfde device als model\n",
    "\n",
    "    support_images = support_images.to(device)\n",
    "    support_labels = support_labels.to(device)\n",
    "    query_images   = query_images.to(device)\n",
    "    query_labels   = query_labels.to(device)\n",
    "\n",
    "    with torch.no_grad():\n",
    "        scores, _ = model(support_images, support_labels, query_images)\n",
    "        preds = scores.argmax(dim=1)\n",
    "\n",
    "    correct = (preds == query_labels).sum().item()\n",
    "    return correct, len(query_labels)\n",
    "\n",
    "\n",
    "def evaluate(data_loader: DataLoader):\n",
    "    total_predictions = 0\n",
    "    correct_predictions = 0\n",
    "\n",
    "    device = torch.device(\"cuda\" if torch.cuda.is_available() else \"cpu\")\n",
    "    model.to(device).eval()\n",
    "\n",
    "    with torch.no_grad():\n",
    "        for episode_index, (\n",
    "            support_images,\n",
    "            support_labels,\n",
    "            query_images,\n",
    "            query_labels,\n",
    "            class_ids,\n",
    "        ) in tqdm(enumerate(data_loader), total=len(data_loader)):\n",
    "\n",
    "            correct, total = evaluate_on_one_task(\n",
    "                support_images, support_labels, query_images, query_labels\n",
    "            )\n",
    "            total_predictions += total\n",
    "            correct_predictions += correct\n",
    "\n",
    "    acc = 100 * correct_predictions / total_predictions\n",
    "    print(f\"Model tested on {len(data_loader)} tasks. Accuracy: {acc:.2f}%\")\n",
    "\n",
    "\n",
    "evaluate(test_loader)"
   ]
  },
  {
   "cell_type": "markdown",
   "metadata": {
    "collapsed": false,
    "pycharm": {
     "name": "#%% md\n"
    }
   },
   "source": [
    "With absolutely zero training on Omniglot images, and only 5 examples per class, we achieve around 86% accuracy! Isn't this a great start?\n",
    "\n",
    "Now that you know how to make Prototypical Networks work, you can see what happens if you tweak it\n",
    "a little bit (change the backbone, use other distances than euclidean...) or if you change the problem\n",
    "(more classes in each task, less or more examples in the support set, maybe even one example only,\n",
    "but keep in mind that in that case Prototypical Networks are just standard nearest neighbour).\n",
    "\n",
    "When you're done, you can scroll further down and learn how to **meta-train this model**, to get even better results."
   ]
  },
  {
   "cell_type": "markdown",
   "metadata": {
    "collapsed": false,
    "pycharm": {
     "name": "#%% md\n"
    }
   },
   "source": [
    "## Training a meta-learning algorithm\n",
    "\n",
    "Let's use the \"background\" images of Omniglot as training set. Here we prepare a data loader of 40 000 few-shot classification\n",
    "tasks on which we will train our model. The alphabets used in the training set are entirely separated from those used in the testing set.\n",
    "This guarantees that at test time, the model will have to classify characters that were not seen during training.\n",
    "\n",
    "Note that we don't set a validation set here to keep this notebook concise,\n",
    "but keep in mind that **this is not good practice** and you should always use validation when training a model for production.\n",
    "\n",
    "Note: Currently, there is a bug in PyTorch DataLoader for Mac/Windows users that makes it impossible to use multiple workers with custom `get_labels` function.\n",
    "You can set `num_workers=0` to avoid this issue when instantiating the DataLoader in the next cell.\n",
    "Read more about the [issue](https://github.com/sicara/easy-few-shot-learning/issues/51).\n",
    "\n",
    "---\n",
    "\n",
    "### Summary (NL)\n",
    "We gebruiken het Omniglot-dataset met duizenden handgeschreven symbolen.\n",
    "\n",
    "De achtergrond-alfabetten worden gebruikt om het model te trainen.\n",
    "\n",
    "De test-alfabetten zijn volledig andere letters/symbolen.\n",
    "Dit betekent dat het model tijdens de test helemaal nieuwe karakters moet herkennen die het nog nooit heeft gezien.\n",
    "\n",
    "**Few-shot taken:**\n",
    "\n",
    "Er worden 40.000 kleine classificatie-taken (episodes) gemaakt.\n",
    "\n",
    "Elke taak bevat een support set (enkele voorbeelden per klasse) en een query set (testvoorbeelden).\n",
    "\n",
    "Dit bootst steeds een nieuwe “mini-leeropdracht” na, zodat het model leert om te leren."
   ]
  },
  {
   "cell_type": "code",
   "execution_count": 20,
   "metadata": {
    "collapsed": false,
    "pycharm": {
     "name": "#%%\n"
    }
   },
   "outputs": [],
   "source": [
    "# --- TRAIN LOADER: geen multiprocessing ---\n",
    "N_TRAINING_EPISODES = 40000\n",
    "N_VALIDATION_TASKS = 100\n",
    "\n",
    "train_set.get_labels = lambda: [instance[1] for instance in train_set._flat_character_images]\n",
    "\n",
    "train_sampler = TaskSampler(\n",
    "    train_set, n_way=N_WAY, n_shot=N_SHOT, n_query=N_QUERY, n_tasks=N_TRAINING_EPISODES\n",
    ")\n",
    "\n",
    "train_loader = DataLoader(\n",
    "    train_set,\n",
    "    batch_sampler=train_sampler,\n",
    "    num_workers=0,          # <-- was 12\n",
    "    pin_memory=False,       # CUDA niet in gebruik, dus uit\n",
    "    collate_fn=train_sampler.episodic_collate_fn,\n",
    ")"
   ]
  },
  {
   "cell_type": "markdown",
   "metadata": {
    "collapsed": false,
    "pycharm": {
     "name": "#%% md\n"
    }
   },
   "source": [
    "We will keep the same model. So our weights will be pre-trained on ImageNet. If you want to start a training from scratch,\n",
    "feel free to set `pretrained=False` in the definition of the ResNet.\n",
    "\n",
    "Here we define our loss and our optimizer (cross entropy and Adam, pretty standard), and a `fit` method.\n",
    "This method takes a classification task as input (support set and query set). It predicts the labels of the query set\n",
    "based on the information from the support set; then it compares the predicted labels to ground truth query labels,\n",
    "and this gives us a loss value. Then it uses this loss to update the parameters of the model. This is a *meta-training loop*.\n",
    "\n",
    "---\n",
    "\n",
    "### Summary (NL)\n",
    "Het model is een ResNet18 die al voorgetraind is op ImageNet (grote dataset met miljoenen plaatjes). Daardoor hoeft het model niet helemaal vanaf nul te leren.\n",
    "\n",
    "#### Loss en optimizer:\n",
    "- **CrossEntropyLoss** wordt gebruikt om te meten hoe goed (of slecht) de voorspellingen zijn.\n",
    "- **Adam** wordt gebruikt om de gewichten van het model stap voor stap aan te passen.\n",
    "\n",
    "#### De fit-functie:\n",
    "\n",
    "1. Het model krijgt een support set + query set.\n",
    "2. Het voorspelt de labels van de query-afbeeldingen.\n",
    "3. Het vergelijkt de voorspellingen met de echte labels (ground truth).\n",
    "4. De fout (loss) wordt berekend.\n",
    "5. Met die fout worden de modelparameters bijgewerkt (backpropagation).\n",
    "\n",
    "Dit hele proces heet een **meta-training loop:** het model leert niet één vaste taak, maar leert hoe het telkens snel nieuwe taken kan oplossen met weinig voorbeelden."
   ]
  },
  {
   "cell_type": "code",
   "execution_count": 21,
   "metadata": {
    "collapsed": false,
    "pycharm": {
     "name": "#%%\n"
    }
   },
   "outputs": [],
   "source": [
    "criterion = nn.CrossEntropyLoss()\n",
    "optimizer = optim.Adam(model.parameters(), lr=0.001)\n",
    "\n",
    "def fit(\n",
    "    support_images: torch.Tensor,\n",
    "    support_labels: torch.Tensor,\n",
    "    query_images: torch.Tensor,\n",
    "    query_labels: torch.Tensor,\n",
    ") -> float:\n",
    "    device = next(model.parameters()).device  # zelfde device als model\n",
    "\n",
    "    support_images = support_images.to(device)\n",
    "    support_labels = support_labels.to(device)\n",
    "    query_images   = query_images.to(device)\n",
    "    query_labels   = query_labels.to(device)\n",
    "\n",
    "    optimizer.zero_grad()\n",
    "    scores, _ = model(support_images, support_labels, query_images)  # model retourneert (scores, class_ids)\n",
    "    loss = criterion(scores, query_labels)\n",
    "    loss.backward()\n",
    "    optimizer.step()\n",
    "    return loss.item()\n"
   ]
  },
  {
   "cell_type": "markdown",
   "metadata": {
    "collapsed": false,
    "pycharm": {
     "name": "#%% md\n"
    }
   },
   "source": [
    "To train the model, we are just going to iterate over a large number of randomly generated few-shot classification tasks,\n",
    "and let the `fit` method update our model after each task. This is called **episodic training**.\n",
    "\n",
    "This took me 20mn on an RTX 2080 and I promised you that this whole tutorial would take 15mn.\n",
    "So if you don't want to run the training yourself, you can just skip the training and load the model that I trained\n",
    "using the exact same code."
   ]
  },
  {
   "cell_type": "code",
   "execution_count": 22,
   "metadata": {
    "collapsed": false,
    "pycharm": {
     "name": "#%%\n"
    }
   },
   "outputs": [
    {
     "name": "stderr",
     "output_type": "stream",
     "text": [
      "  0%|          | 40/40000 [00:31<8:49:15,  1.26it/s, loss=1.63]\n"
     ]
    },
    {
     "ename": "KeyboardInterrupt",
     "evalue": "",
     "output_type": "error",
     "traceback": [
      "\u001b[31m---------------------------------------------------------------------------\u001b[39m",
      "\u001b[31mKeyboardInterrupt\u001b[39m                         Traceback (most recent call last)",
      "\u001b[36mCell\u001b[39m\u001b[36m \u001b[39m\u001b[32mIn[22]\u001b[39m\u001b[32m, line 16\u001b[39m\n\u001b[32m      7\u001b[39m model.to(device).train()\n\u001b[32m      9\u001b[39m \u001b[38;5;28;01mwith\u001b[39;00m tqdm(\u001b[38;5;28menumerate\u001b[39m(train_loader), total=\u001b[38;5;28mlen\u001b[39m(train_loader)) \u001b[38;5;28;01mas\u001b[39;00m tqdm_train:\n\u001b[32m     10\u001b[39m \u001b[43m    \u001b[49m\u001b[38;5;28;43;01mfor\u001b[39;49;00m\u001b[43m \u001b[49m\u001b[43mepisode_index\u001b[49m\u001b[43m,\u001b[49m\u001b[43m \u001b[49m\u001b[43m(\u001b[49m\n\u001b[32m     11\u001b[39m \u001b[43m        \u001b[49m\u001b[43msupport_images\u001b[49m\u001b[43m,\u001b[49m\n\u001b[32m     12\u001b[39m \u001b[43m        \u001b[49m\u001b[43msupport_labels\u001b[49m\u001b[43m,\u001b[49m\n\u001b[32m     13\u001b[39m \u001b[43m        \u001b[49m\u001b[43mquery_images\u001b[49m\u001b[43m,\u001b[49m\n\u001b[32m     14\u001b[39m \u001b[43m        \u001b[49m\u001b[43mquery_labels\u001b[49m\u001b[43m,\u001b[49m\n\u001b[32m     15\u001b[39m \u001b[43m        \u001b[49m\u001b[43m_\u001b[49m\u001b[43m,\u001b[49m\n\u001b[32m---> \u001b[39m\u001b[32m16\u001b[39m \u001b[43m    \u001b[49m\u001b[43m)\u001b[49m\u001b[43m \u001b[49m\u001b[38;5;129;43;01min\u001b[39;49;00m\u001b[43m \u001b[49m\u001b[43mtqdm_train\u001b[49m\u001b[43m:\u001b[49m\n\u001b[32m     17\u001b[39m \u001b[43m        \u001b[49m\u001b[43mloss_value\u001b[49m\u001b[43m \u001b[49m\u001b[43m=\u001b[49m\u001b[43m \u001b[49m\u001b[43mfit\u001b[49m\u001b[43m(\u001b[49m\u001b[43msupport_images\u001b[49m\u001b[43m,\u001b[49m\u001b[43m \u001b[49m\u001b[43msupport_labels\u001b[49m\u001b[43m,\u001b[49m\u001b[43m \u001b[49m\u001b[43mquery_images\u001b[49m\u001b[43m,\u001b[49m\u001b[43m \u001b[49m\u001b[43mquery_labels\u001b[49m\u001b[43m)\u001b[49m\n\u001b[32m     18\u001b[39m \u001b[43m        \u001b[49m\u001b[43mall_loss\u001b[49m\u001b[43m.\u001b[49m\u001b[43mappend\u001b[49m\u001b[43m(\u001b[49m\u001b[43mloss_value\u001b[49m\u001b[43m)\u001b[49m\n",
      "\u001b[36mFile \u001b[39m\u001b[32mc:\\Users\\Esmee Werk\\Documents\\Persoonlijke Projecten\\AI-Onderzoeksvragen\\.venv\\Lib\\site-packages\\tqdm\\std.py:1181\u001b[39m, in \u001b[36mtqdm.__iter__\u001b[39m\u001b[34m(self)\u001b[39m\n\u001b[32m   1178\u001b[39m time = \u001b[38;5;28mself\u001b[39m._time\n\u001b[32m   1180\u001b[39m \u001b[38;5;28;01mtry\u001b[39;00m:\n\u001b[32m-> \u001b[39m\u001b[32m1181\u001b[39m \u001b[43m    \u001b[49m\u001b[38;5;28;43;01mfor\u001b[39;49;00m\u001b[43m \u001b[49m\u001b[43mobj\u001b[49m\u001b[43m \u001b[49m\u001b[38;5;129;43;01min\u001b[39;49;00m\u001b[43m \u001b[49m\u001b[43miterable\u001b[49m\u001b[43m:\u001b[49m\n\u001b[32m   1182\u001b[39m \u001b[43m        \u001b[49m\u001b[38;5;28;43;01myield\u001b[39;49;00m\u001b[43m \u001b[49m\u001b[43mobj\u001b[49m\n\u001b[32m   1183\u001b[39m \u001b[43m        \u001b[49m\u001b[38;5;66;43;03m# Update and possibly print the progressbar.\u001b[39;49;00m\n\u001b[32m   1184\u001b[39m \u001b[43m        \u001b[49m\u001b[38;5;66;43;03m# Note: does not call self.update(1) for speed optimisation.\u001b[39;49;00m\n",
      "\u001b[36mFile \u001b[39m\u001b[32mc:\\Users\\Esmee Werk\\Documents\\Persoonlijke Projecten\\AI-Onderzoeksvragen\\.venv\\Lib\\site-packages\\torch\\utils\\data\\dataloader.py:734\u001b[39m, in \u001b[36m_BaseDataLoaderIter.__next__\u001b[39m\u001b[34m(self)\u001b[39m\n\u001b[32m    731\u001b[39m \u001b[38;5;28;01mif\u001b[39;00m \u001b[38;5;28mself\u001b[39m._sampler_iter \u001b[38;5;129;01mis\u001b[39;00m \u001b[38;5;28;01mNone\u001b[39;00m:\n\u001b[32m    732\u001b[39m     \u001b[38;5;66;03m# TODO(https://github.com/pytorch/pytorch/issues/76750)\u001b[39;00m\n\u001b[32m    733\u001b[39m     \u001b[38;5;28mself\u001b[39m._reset()  \u001b[38;5;66;03m# type: ignore[call-arg]\u001b[39;00m\n\u001b[32m--> \u001b[39m\u001b[32m734\u001b[39m data = \u001b[38;5;28;43mself\u001b[39;49m\u001b[43m.\u001b[49m\u001b[43m_next_data\u001b[49m\u001b[43m(\u001b[49m\u001b[43m)\u001b[49m\n\u001b[32m    735\u001b[39m \u001b[38;5;28mself\u001b[39m._num_yielded += \u001b[32m1\u001b[39m\n\u001b[32m    736\u001b[39m \u001b[38;5;28;01mif\u001b[39;00m (\n\u001b[32m    737\u001b[39m     \u001b[38;5;28mself\u001b[39m._dataset_kind == _DatasetKind.Iterable\n\u001b[32m    738\u001b[39m     \u001b[38;5;129;01mand\u001b[39;00m \u001b[38;5;28mself\u001b[39m._IterableDataset_len_called \u001b[38;5;129;01mis\u001b[39;00m \u001b[38;5;129;01mnot\u001b[39;00m \u001b[38;5;28;01mNone\u001b[39;00m\n\u001b[32m    739\u001b[39m     \u001b[38;5;129;01mand\u001b[39;00m \u001b[38;5;28mself\u001b[39m._num_yielded > \u001b[38;5;28mself\u001b[39m._IterableDataset_len_called\n\u001b[32m    740\u001b[39m ):\n",
      "\u001b[36mFile \u001b[39m\u001b[32mc:\\Users\\Esmee Werk\\Documents\\Persoonlijke Projecten\\AI-Onderzoeksvragen\\.venv\\Lib\\site-packages\\torch\\utils\\data\\dataloader.py:790\u001b[39m, in \u001b[36m_SingleProcessDataLoaderIter._next_data\u001b[39m\u001b[34m(self)\u001b[39m\n\u001b[32m    788\u001b[39m \u001b[38;5;28;01mdef\u001b[39;00m\u001b[38;5;250m \u001b[39m\u001b[34m_next_data\u001b[39m(\u001b[38;5;28mself\u001b[39m):\n\u001b[32m    789\u001b[39m     index = \u001b[38;5;28mself\u001b[39m._next_index()  \u001b[38;5;66;03m# may raise StopIteration\u001b[39;00m\n\u001b[32m--> \u001b[39m\u001b[32m790\u001b[39m     data = \u001b[38;5;28;43mself\u001b[39;49m\u001b[43m.\u001b[49m\u001b[43m_dataset_fetcher\u001b[49m\u001b[43m.\u001b[49m\u001b[43mfetch\u001b[49m\u001b[43m(\u001b[49m\u001b[43mindex\u001b[49m\u001b[43m)\u001b[49m  \u001b[38;5;66;03m# may raise StopIteration\u001b[39;00m\n\u001b[32m    791\u001b[39m     \u001b[38;5;28;01mif\u001b[39;00m \u001b[38;5;28mself\u001b[39m._pin_memory:\n\u001b[32m    792\u001b[39m         data = _utils.pin_memory.pin_memory(data, \u001b[38;5;28mself\u001b[39m._pin_memory_device)\n",
      "\u001b[36mFile \u001b[39m\u001b[32mc:\\Users\\Esmee Werk\\Documents\\Persoonlijke Projecten\\AI-Onderzoeksvragen\\.venv\\Lib\\site-packages\\torch\\utils\\data\\_utils\\fetch.py:52\u001b[39m, in \u001b[36m_MapDatasetFetcher.fetch\u001b[39m\u001b[34m(self, possibly_batched_index)\u001b[39m\n\u001b[32m     50\u001b[39m         data = \u001b[38;5;28mself\u001b[39m.dataset.__getitems__(possibly_batched_index)\n\u001b[32m     51\u001b[39m     \u001b[38;5;28;01melse\u001b[39;00m:\n\u001b[32m---> \u001b[39m\u001b[32m52\u001b[39m         data = [\u001b[38;5;28;43mself\u001b[39;49m\u001b[43m.\u001b[49m\u001b[43mdataset\u001b[49m\u001b[43m[\u001b[49m\u001b[43midx\u001b[49m\u001b[43m]\u001b[49m \u001b[38;5;28;01mfor\u001b[39;00m idx \u001b[38;5;129;01min\u001b[39;00m possibly_batched_index]\n\u001b[32m     53\u001b[39m \u001b[38;5;28;01melse\u001b[39;00m:\n\u001b[32m     54\u001b[39m     data = \u001b[38;5;28mself\u001b[39m.dataset[possibly_batched_index]\n",
      "\u001b[36mFile \u001b[39m\u001b[32mc:\\Users\\Esmee Werk\\Documents\\Persoonlijke Projecten\\AI-Onderzoeksvragen\\.venv\\Lib\\site-packages\\torchvision\\datasets\\omniglot.py:81\u001b[39m, in \u001b[36mOmniglot.__getitem__\u001b[39m\u001b[34m(self, index)\u001b[39m\n\u001b[32m     79\u001b[39m image_name, character_class = \u001b[38;5;28mself\u001b[39m._flat_character_images[index]\n\u001b[32m     80\u001b[39m image_path = join(\u001b[38;5;28mself\u001b[39m.target_folder, \u001b[38;5;28mself\u001b[39m._characters[character_class], image_name)\n\u001b[32m---> \u001b[39m\u001b[32m81\u001b[39m image = \u001b[43mImage\u001b[49m\u001b[43m.\u001b[49m\u001b[43mopen\u001b[49m\u001b[43m(\u001b[49m\u001b[43mimage_path\u001b[49m\u001b[43m,\u001b[49m\u001b[43m \u001b[49m\u001b[43mmode\u001b[49m\u001b[43m=\u001b[49m\u001b[33;43m\"\u001b[39;49m\u001b[33;43mr\u001b[39;49m\u001b[33;43m\"\u001b[39;49m\u001b[43m)\u001b[49m.convert(\u001b[33m\"\u001b[39m\u001b[33mL\u001b[39m\u001b[33m\"\u001b[39m) \u001b[38;5;28;01mif\u001b[39;00m \u001b[38;5;28mself\u001b[39m.loader \u001b[38;5;129;01mis\u001b[39;00m \u001b[38;5;28;01mNone\u001b[39;00m \u001b[38;5;28;01melse\u001b[39;00m \u001b[38;5;28mself\u001b[39m.loader(image_path)\n\u001b[32m     83\u001b[39m \u001b[38;5;28;01mif\u001b[39;00m \u001b[38;5;28mself\u001b[39m.transform:\n\u001b[32m     84\u001b[39m     image = \u001b[38;5;28mself\u001b[39m.transform(image)\n",
      "\u001b[36mFile \u001b[39m\u001b[32mc:\\Users\\Esmee Werk\\Documents\\Persoonlijke Projecten\\AI-Onderzoeksvragen\\.venv\\Lib\\site-packages\\PIL\\Image.py:3513\u001b[39m, in \u001b[36mopen\u001b[39m\u001b[34m(fp, mode, formats)\u001b[39m\n\u001b[32m   3511\u001b[39m \u001b[38;5;28;01mif\u001b[39;00m is_path(fp):\n\u001b[32m   3512\u001b[39m     filename = os.fspath(fp)\n\u001b[32m-> \u001b[39m\u001b[32m3513\u001b[39m     fp = \u001b[43mbuiltins\u001b[49m\u001b[43m.\u001b[49m\u001b[43mopen\u001b[49m\u001b[43m(\u001b[49m\u001b[43mfilename\u001b[49m\u001b[43m,\u001b[49m\u001b[43m \u001b[49m\u001b[33;43m\"\u001b[39;49m\u001b[33;43mrb\u001b[39;49m\u001b[33;43m\"\u001b[39;49m\u001b[43m)\u001b[49m\n\u001b[32m   3514\u001b[39m     exclusive_fp = \u001b[38;5;28;01mTrue\u001b[39;00m\n\u001b[32m   3515\u001b[39m \u001b[38;5;28;01melse\u001b[39;00m:\n",
      "\u001b[31mKeyboardInterrupt\u001b[39m: "
     ]
    }
   ],
   "source": [
    "# Train the model yourself with this cell\n",
    "\n",
    "log_update_frequency = 10\n",
    "all_loss = []\n",
    "\n",
    "device = torch.device(\"cuda\" if torch.cuda.is_available() else \"cpu\")\n",
    "model.to(device).train()\n",
    "\n",
    "with tqdm(enumerate(train_loader), total=len(train_loader)) as tqdm_train:\n",
    "    for episode_index, (\n",
    "        support_images,\n",
    "        support_labels,\n",
    "        query_images,\n",
    "        query_labels,\n",
    "        _,\n",
    "    ) in tqdm_train:\n",
    "        loss_value = fit(support_images, support_labels, query_images, query_labels)\n",
    "        all_loss.append(loss_value)\n",
    "\n",
    "        if episode_index % log_update_frequency == 0:\n",
    "            tqdm_train.set_postfix(loss=sliding_average(all_loss, log_update_frequency))\n"
   ]
  },
  {
   "cell_type": "code",
   "execution_count": null,
   "metadata": {
    "collapsed": false,
    "pycharm": {
     "name": "#%%\n"
    }
   },
   "outputs": [],
   "source": [
    "# Or just load mine\n",
    "\n",
    "!wget https://public-sicara.s3.eu-central-1.amazonaws.com/easy-fsl/resnet18_with_pretraining.tar\n",
    "\n",
    "device = torch.device(\"cuda\" if torch.cuda.is_available() else \"cpu\")\n",
    "model.load_state_dict(torch.load(\"resnet18_with_pretraining.tar\", map_location=device))\n"
   ]
  },
  {
   "cell_type": "markdown",
   "metadata": {
    "collapsed": false,
    "pycharm": {
     "name": "#%% md\n"
    }
   },
   "source": [
    "Now let's see if our model got better!"
   ]
  },
  {
   "cell_type": "code",
   "execution_count": null,
   "metadata": {
    "collapsed": false,
    "pycharm": {
     "name": "#%%\n"
    }
   },
   "outputs": [],
   "source": [
    "evaluate(test_loader)\n"
   ]
  },
  {
   "cell_type": "markdown",
   "metadata": {
    "collapsed": false,
    "pycharm": {
     "name": "#%% md\n"
    }
   },
   "source": [
    "Around 98%!\n",
    "\n",
    "It's not surprising that the model performs better after being further trained on Omniglot images than it was with its\n",
    "ImageNet-based parameters. However, we have to keep in mind that the classes on which we just evaluated our model were still\n",
    "**not seen during training**, so 99% (with a 12% improvement over the model trained on ImageNet) seems like a decent performance.\n",
    "\n",
    "## What have we learned?\n",
    "\n",
    "- What a Prototypical Network is and how to implement one in 15 lines of code.\n",
    "- How to use Omniglot to evaluate few-shot models\n",
    "- How to use custom PyTorch objets to sample batches in the shape of a few-shot classification tasks.\n",
    "- How to use meta-learning to train a few-shot algorithm.\n",
    "\n",
    "## What's next?\n",
    "\n",
    "- Take this notebook in your own hands, tweak everything that there is to tweak. It's the best way to understand what does what.\n",
    "- Implement other few-shot learning methods, such as Matching Networks, Relation Networks, MAML...\n",
    "- Try other ways of training. Episodic training is not the only way to train a model to generalize to new classes!\n",
    "- Experiment on other, more challenging few-shot learning benchmarks, such as [CUB](http://www.vision.caltech.edu/visipedia/CUB-200.html)\n",
    "or [Meta-Dataset](https://github.com/google-research/meta-dataset).\n",
    "- If you liked this tutorial, feel free to ⭐ [give us a star on Github](https://github.com/sicara/easy-few-shot-learning) ⭐\n",
    "- **Contribute!** The companion repository of this notebook is meant to become a boilerplate, a source of useful code that\n",
    "that newcomers can use to start their few-shot learning projects.\n"
   ]
  }
 ],
 "metadata": {
  "accelerator": "GPU",
  "colab": {
   "name": "my_first_few_shot_classifier.ipynb",
   "provenance": [],
   "toc_visible": true
  },
  "kernelspec": {
   "display_name": ".venv",
   "language": "python",
   "name": "python3"
  },
  "language_info": {
   "codemirror_mode": {
    "name": "ipython",
    "version": 3
   },
   "file_extension": ".py",
   "mimetype": "text/x-python",
   "name": "python",
   "nbconvert_exporter": "python",
   "pygments_lexer": "ipython3",
   "version": "3.13.7"
  }
 },
 "nbformat": 4,
 "nbformat_minor": 0
}
