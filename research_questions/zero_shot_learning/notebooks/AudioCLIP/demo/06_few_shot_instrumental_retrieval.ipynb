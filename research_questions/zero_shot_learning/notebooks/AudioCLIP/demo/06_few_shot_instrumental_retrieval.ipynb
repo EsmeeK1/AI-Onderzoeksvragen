{
 "cells": [
  {
   "cell_type": "markdown",
   "id": "11bbf255",
   "metadata": {},
   "source": [
    "## AudioCLIP Instrument Recognition & Retrieval Demo\n",
    "\n",
    "Based on the original [AudioCLIP repository by Andrey Guzhov](https://github.com/AndreyGuzhov)\n",
    "\n",
    "This notebook demonstrates how to use a **pretrained AudioCLIP model** to recognize and retrieve musical instruments from the **IRMAS dataset**.  \n",
    "It focuses on **zero-shot prediction** — identifying instruments using natural-language prompts such as *“the sound of a piano”* without any additional training.\n",
    "\n",
    "Below you will find an overview of the notebook’s structure.\n",
    "\n",
    "---\n",
    "\n",
    "## Notebook Outline\n",
    "\n",
    "### Setup & Preparation\n",
    "1. [Downloading Binary Assets](#downloading-binary-assets)  \n",
    " Download pretrained model weights and vocabulary if missing.  \n",
    "2. [Imports & Constants](#imports--constants)  \n",
    " Import required libraries and define constants such as sample rate and paths.  \n",
    "3. [Paths, Assets, and Auto-Downloads](#paths-assets-and-auto-downloads)  \n",
    " Configure data directories and automatically fetch any missing files.\n",
    "\n",
    "### Dataset Construction\n",
    "4. [Canonical Prompt Phrasing for Instruments](#canonical-prompt-phrasing-for-instruments)  \n",
    " Define consistent natural-language descriptions for each instrument.  \n",
    "5. [Build the IRMAS DataFrame (scan WAVs + read labels)](#build-the-irmas-dataframe-scan-wavs--read-labels)  \n",
    " Load all `.wav` and `.txt` files, parse labels, and construct a tidy dataset.  \n",
    "6. [Create an Evaluation Subset with Single Labels](#create-an-evaluation-subset-with-single-labels)  \n",
    " Filter the dataset to only include clips with a single, unambiguous instrument label.\n",
    "\n",
    "### Model Setup & Embedding Generation\n",
    "7. [Initialize AudioCLIP for Inference](#initialize-audioclip-for-inference)  \n",
    " Load the pretrained AudioCLIP model in evaluation mode and prepare audio transforms.  \n",
    "8. [Audio → Segments → Embeddings (batching + optional window pooling)](#audio--segments--embeddings-batching--optional-window-pooling)  \n",
    " Convert raw audio clips into normalized embedding vectors.\n",
    "\n",
    "### Text Embedding & Similarity\n",
    "9. [Text Prompts (with optional ensembling) → Text Embeddings](#text-prompts-with-optional-ensembling--text-embeddings)  \n",
    " Generate text embeddings from instrument labels or free-form prompts.  \n",
    "10. [Scores, Optional Calibration, and Accuracy Metrics](#scores-optional-calibration-and-accuracy-metrics)  \n",
    " Compute cosine similarities between audio and text embeddings and evaluate accuracy.\n",
    "\n",
    "### Evaluation & Visualization\n",
    "11. [Confusion Matrix Visualization](#confusion-matrix-visualization)  \n",
    " Visualize which instruments are often confused by the model.  \n",
    "12. [Pretty Top-3 Table](#pretty-top-3-table)  \n",
    " Print a readable summary showing each clip’s true label and the model’s top predictions.\n",
    "\n",
    "### Free-Text Retrieval\n",
    "13. [Free-Text Retrieval (search across any DataFrame)](#free-text-retrieval-search-across-any-dataframe)  \n",
    " Type a natural-language query (e.g., “violin solo”) and retrieve the most similar audio clips.\n"
   ]
  },
  {
   "cell_type": "markdown",
   "id": "e6a262a9",
   "metadata": {},
   "source": [
    "## Downloading Binary Assets\n",
    "\n",
    "Below we're creating an assets directory in the map ../assets. This is where we will store two files:\n",
    "\n",
    "- `bpe_simple_vocab_16e6.txt.gz` → the BPE merges/vocabulary used by CLIP’s tokenizer (text side).\n",
    "- `AudioCLIP-Full-Training.pt` → the pretrained model weights (audio+text encoders etc.).\n",
    "\n",
    "Both are essential, without the BPE file you can't tokenize. And without the weights you can't run the model.\n",
    "\n",
    "---\n",
    "\n",
    "#### Short Summary\n",
    "1. We make a file ../assets\n",
    "2. We download two files (tokenizer and pretrained model)\n",
    "3. We only download them if you don't have them already"
   ]
  },
  {
   "cell_type": "code",
   "execution_count": 1,
   "id": "86673fce",
   "metadata": {},
   "outputs": [
    {
     "name": "stdout",
     "output_type": "stream",
     "text": [
      "bpe_simple_vocab_16e6.txt.gz already exists in ..\\assets\n",
      "AudioCLIP-Full-Training.pt already exists in ..\\assets\n"
     ]
    }
   ],
   "source": [
    "import os\n",
    "import urllib.request\n",
    "\n",
    "ASSETS_DIR = os.path.join(\"..\", \"assets\")\n",
    "os.makedirs(ASSETS_DIR, exist_ok=True)\n",
    "\n",
    "files = [\n",
    "    (\n",
    "        \"https://github.com/AndreyGuzhov/AudioCLIP/releases/download/v0.1/bpe_simple_vocab_16e6.txt.gz\",\n",
    "        \"bpe_simple_vocab_16e6.txt.gz\",\n",
    "    ),\n",
    "    (\n",
    "        \"https://github.com/AndreyGuzhov/AudioCLIP/releases/download/v0.1/AudioCLIP-Full-Training.pt\",\n",
    "        \"AudioCLIP-Full-Training.pt\",\n",
    "    ),\n",
    "]\n",
    "\n",
    "for url, filename in files:\n",
    "    out_path = os.path.join(ASSETS_DIR, filename)\n",
    "    if not os.path.exists(out_path):\n",
    "        print(f\"Downloading {filename}...\")\n",
    "        urllib.request.urlretrieve(url, out_path)\n",
    "    else:\n",
    "        print(f\"{filename} already exists in {ASSETS_DIR}\")"
   ]
  },
  {
   "cell_type": "markdown",
   "id": "fcde309f",
   "metadata": {},
   "source": [
    "# Imports & Constants\n",
    "\n",
    "Below we import some global libraries.\n",
    "\n",
    "Besides that we also import `AudioCLIP`, the main neural network class, it contains:\n",
    "\n",
    "* a CLIP-like text encoder\n",
    "* an image encoder\n",
    "* an audio encoder (ESResNeXt backbone)\n",
    "\n",
    "`ToTensor1D` is a helper transformer that takes 1-D audio signals (e.g. waveforms) and turns them into a PyTorch tensor, so it's ready for the model.\n",
    "\n",
    "We also de fine a few configuration variables:\n",
    "\n",
    "- `MODEL_FIlENAME`: Filename of the pretrained model we have in ../assets\n",
    "- `SAMPLE_RATE`: The sample rate the audio encoder expects (44.1 kHz)"
   ]
  },
  {
   "cell_type": "code",
   "execution_count": 2,
   "id": "70dbdf30",
   "metadata": {},
   "outputs": [],
   "source": [
    "import os\n",
    "import sys\n",
    "import glob\n",
    "import gc\n",
    "\n",
    "import librosa\n",
    "import librosa.display\n",
    "from pathlib import Path\n",
    "from typing import List, Optional\n",
    "import pandas as pd\n",
    "from collections import Counter\n",
    "\n",
    "import simplejpeg\n",
    "import numpy as np\n",
    "from pathlib import Path\n",
    "import pandas as pd\n",
    "\n",
    "import torch\n",
    "import torchvision as tv\n",
    "\n",
    "import matplotlib.pyplot as plt\n",
    "\n",
    "from PIL import Image\n",
    "from IPython.display import Audio, display\n",
    "\n",
    "sys.path.append(os.path.abspath(f'{os.getcwd()}/..'))\n",
    "\n",
    "from model import AudioCLIP\n",
    "from utils.transforms import ToTensor1D\n",
    "\n",
    "torch.set_grad_enabled(False)\n",
    "\n",
    "MODEL_FILENAME = 'AudioCLIP-Full-Training.pt'\n",
    "SAMPLE_RATE = 44100"
   ]
  },
  {
   "cell_type": "markdown",
   "id": "3566e0b1",
   "metadata": {},
   "source": [
    "# Paths, assets, and auto-downloads\n",
    "\n",
    "These lines define where your IRMAS audio lives and where the model/vocab files should be stored. If those files aren’t found locally, they’re downloaded from the official GitHub release. This makes the notebook more reproducible: anyone can run it without manually fetching assets.\n",
    "\n",
    "#### short summary\n",
    "\n",
    "* Set data/model file locations\n",
    "* Create the assets folder if needed\n",
    "* Auto-download model + vocab if missing"
   ]
  },
  {
   "cell_type": "code",
   "execution_count": 3,
   "id": "d8a59035",
   "metadata": {},
   "outputs": [
    {
     "name": "stdout",
     "output_type": "stream",
     "text": [
      "AudioCLIP-Full-Training.pt already exists.\n",
      "bpe_simple_vocab_16e6.txt.gz already exists.\n"
     ]
    }
   ],
   "source": [
    "# Base folder where the IRMAS test audio lives. Change this if your files are elsewhere.\n",
    "DATA_ROOT   = Path(\"data/IRMAS/IRMAS-TestingData-Part1\")\n",
    "\n",
    "# Where we keep model files and vocabulary files. Create the folder if it doesn't exist.\n",
    "ASSETS_DIR  = Path(\"../assets\"); ASSETS_DIR.mkdir(parents=True, exist_ok=True)\n",
    "\n",
    "# Full paths to the model file and the tokenizer vocabulary file.\n",
    "MODEL_FILE  = ASSETS_DIR / \"AudioCLIP-Full-Training.pt\"\n",
    "VOCAB_FILE  = ASSETS_DIR / \"bpe_simple_vocab_16e6.txt.gz\"\n",
    "\n",
    "# Official download links for the model and the vocab (used if the files are missing).\n",
    "MODEL_URL   = \"https://github.com/AndreyGuzhov/AudioCLIP/releases/download/v0.1/AudioCLIP-Full-Training.pt\"\n",
    "VOCAB_URL   = \"https://github.com/AndreyGuzhov/AudioCLIP/releases/download/v0.1/bpe_simple_vocab_16e6.txt.gz\"\n",
    "\n",
    "def _maybe_dl(url, out_path: Path):\n",
    "    # If the file doesn't exist locally, download it. Otherwise, do nothing.\n",
    "    if not out_path.exists():\n",
    "        print(f\"Downloading {out_path.name} …\")\n",
    "        urllib.request.urlretrieve(url, out_path)\n",
    "    else:\n",
    "        print(f\"{out_path.name} already exists.\")\n",
    "\n",
    "# Ensure the required files are present before running the rest of the notebook.\n",
    "_maybe_dl(MODEL_URL, MODEL_FILE)\n",
    "_maybe_dl(VOCAB_URL,  VOCAB_FILE)"
   ]
  },
  {
   "cell_type": "code",
   "execution_count": 4,
   "id": "8715bd0c",
   "metadata": {},
   "outputs": [],
   "source": [
    "# Audio constants & toggles\n",
    "SAMPLE_RATE     = 44100\n",
    "SEGMENT_SEC     = 10           # use 10s for IRMAS clips\n",
    "BATCH_SIZE      = 8            # reduce if RAM is tight\n",
    "WINDOW_POOLING  = False        # True = multi-window embed (for longer clips)\n",
    "HOP_SEC         = 1.5          # hop for window pooling\n",
    "\n",
    "# Prompt / scoring toggles\n",
    "ENSEMBLE_PROMPTS = True        # average several prompt templates\n",
    "ROW_ZSCORE       = True        # row-wise z-score (per-clip calibration)\n",
    "COL_CENTER       = True        # column-wise centering (class prior removal)\n",
    "TOPK             = 3           # how many top predictions to show in the summary table\n"
   ]
  },
  {
   "cell_type": "markdown",
   "id": "b83965fc",
   "metadata": {},
   "source": [
    "# Canonical prompt phrasing for instruments\n",
    "\n",
    "This dictionary maps instrument labels to clear, consistent English prompts (e.g., \"piano\" → \"the sound of a piano\"). Using consistent wording helps the text encoder produce stable embeddings. make_text_tokens wraps a string as [[str]], which is the input shape AudioCLIP’s text encoder expects.\n",
    "\n",
    "#### short summary\n",
    "\n",
    "* Standardize how we describe each instrument\n",
    "* Prepare text in the format the model expects"
   ]
  },
  {
   "cell_type": "code",
   "execution_count": 5,
   "id": "308db280",
   "metadata": {},
   "outputs": [],
   "source": [
    "# A friendly, consistent way to phrase instrument prompts.\n",
    "# Keys must match the full instrument labels we use later.\n",
    "CANONICAL = {\n",
    "    \"cello\": \"the sound of a cello\",\n",
    "    \"clarinet\": \"the sound of a clarinet\",\n",
    "    \"flute\": \"the sound of a flute\",\n",
    "    \"acoustic guitar\": \"the sound of an acoustic guitar\",\n",
    "    \"electric guitar\": \"the sound of an electric guitar\",\n",
    "    \"organ\": \"the sound of an organ\",\n",
    "    \"piano\": \"the sound of a piano\",\n",
    "    \"saxophone\": \"the sound of a saxophone\",\n",
    "    \"trumpet\": \"the sound of a trumpet\",\n",
    "    \"violin\": \"the sound of a violin\",\n",
    "    \"voice (singing)\": \"the sound of a singing voice\",\n",
    "}\n",
    "\n",
    "def make_text_tokens(prompt: str):\n",
    "    # AudioCLIP's text encoder expects a list of lists: [[string]]\n",
    "    return [[prompt]]"
   ]
  },
  {
   "cell_type": "markdown",
   "id": "ca26bd33",
   "metadata": {},
   "source": [
    "# Build the IRMAS dataframe (scan WAVs + read labels)\n",
    "\n",
    "We walk the IRMAS folder, find every .wav, and look for a matching .txt file with labels. IRMAS often uses 3-letter abbreviations (e.g., gel for electric guitar), so we map those to full names. The result is a DataFrame with absolute file paths and both abbreviated and full labels. We also shuffle with a fixed seed to keep results reproducible.\n",
    "\n",
    "#### short summary\n",
    "\n",
    "* Collect all .wav files and their label .txt\n",
    "* Convert short tags to full instrument names\n",
    "* Produce a tidy df we can work with"
   ]
  },
  {
   "cell_type": "code",
   "execution_count": 6,
   "id": "6ca478ae",
   "metadata": {},
   "outputs": [],
   "source": [
    "# IRMAS files use short 3-letter tags; this map converts them to full names.\n",
    "ABBR_TO_FULL = {\n",
    "    \"cel\": \"cello\", \"cla\": \"clarinet\", \"flu\": \"flute\", \"gac\": \"acoustic guitar\",\n",
    "    \"gel\": \"electric guitar\", \"org\": \"organ\", \"pia\": \"piano\", \"sax\": \"saxophone\",\n",
    "    \"tru\": \"trumpet\", \"vio\": \"violin\", \"voi\": \"voice (singing)\",\n",
    "}\n",
    "\n",
    "def read_irmas_txt(txt_path: Path) -> List[str]:\n",
    "    # Read the .txt file next to a .wav and return a list of label tokens.\n",
    "    labels = []\n",
    "    try:\n",
    "        # Some IRMAS files are not UTF-8, so we try latin-1 as a fallback.\n",
    "        try:\n",
    "            text = txt_path.read_text(encoding=\"utf-8\")\n",
    "        except UnicodeDecodeError:\n",
    "            text = txt_path.read_text(encoding=\"latin-1\")\n",
    "        # Split by lines, then by commas/spaces, and keep non-empty pieces.\n",
    "        for line in text.splitlines():\n",
    "            parts = [p.strip() for p in line.replace(\",\", \" \").split() if p.strip()]\n",
    "            labels.extend(parts)\n",
    "    except Exception as e:\n",
    "        # If the label file is unreadable, we log a warning and continue.\n",
    "        print(f\"[WARN] Could not read {txt_path}: {e}\")\n",
    "    return labels\n",
    "\n",
    "def match_txt_for_wav(wav_path: Path) -> Optional[Path]:\n",
    "    # IRMAS keeps labels in a .txt with the same filename as the .wav.\n",
    "    cand = wav_path.with_suffix(\".txt\")\n",
    "    return cand if cand.exists() else None\n",
    "\n",
    "def map_abbr_to_full(labels_abbr: List[str]) -> List[str]:\n",
    "    # Convert each short tag (e.g., 'gel') into a full instrument name.\n",
    "    return [ABBR_TO_FULL.get(x, x) for x in labels_abbr]\n",
    "\n",
    "def build_irmas_df(root: Path) -> pd.DataFrame:\n",
    "    # Scan the folder for all .wav files and build a table (DataFrame) with metadata.\n",
    "    wavs = sorted(root.rglob(\"*.wav\"))\n",
    "    rows = []\n",
    "    for w in wavs:\n",
    "        # Find the matching .txt (if any) and read its labels.\n",
    "        txt = match_txt_for_wav(w)\n",
    "        lab_abbr = read_irmas_txt(txt) if txt else []\n",
    "        lab_full = map_abbr_to_full(lab_abbr) if lab_abbr else []\n",
    "        # Store absolute paths and both abbr/full labels for later analysis.\n",
    "        rows.append({\n",
    "            \"filepath\": str(w.resolve()),\n",
    "            \"txt_path\": str(txt.resolve()) if txt else None,\n",
    "            \"has_txt\": bool(txt),\n",
    "            \"labels_abbr\": lab_abbr,\n",
    "            \"labels_full\": lab_full\n",
    "        })\n",
    "    # Shuffle rows for a neutral order; fix the seed for reproducibility.\n",
    "    df = pd.DataFrame(rows).sample(frac=1.0, random_state=0).reset_index(drop=True)\n",
    "    return df"
   ]
  },
  {
   "cell_type": "code",
   "execution_count": 7,
   "id": "f0e6dbea",
   "metadata": {},
   "outputs": [
    {
     "name": "stdout",
     "output_type": "stream",
     "text": [
      "WAV files: 807 with .txt: 807\n",
      "Unique instruments: ['acoustic guitar', 'cello', 'clarinet', 'electric guitar', 'flute', 'organ', 'piano', 'saxophone', 'trumpet', 'violin', 'voice (singing)']\n",
      "Counts: [('piano', 367), ('electric guitar', 241), ('voice (singing)', 229), ('saxophone', 167), ('acoustic guitar', 145), ('organ', 91), ('trumpet', 79), ('violin', 51), ('flute', 28), ('cello', 26), ('clarinet', 8)]\n"
     ]
    }
   ],
   "source": [
    "# Stop early with a clear error if the expected folder is missing.\n",
    "assert DATA_ROOT.exists(), f\"DATA_ROOT not found: {DATA_ROOT}\"\n",
    "\n",
    "# Build the dataset table from the IRMAS directory.\n",
    "df = build_irmas_df(DATA_ROOT)\n",
    "\n",
    "# Quick sanity checks: how many files we found and how many have label .txt files.\n",
    "print(\"WAV files:\", len(df), \"with .txt:\", int(df[\"has_txt\"].sum()))\n",
    "\n",
    "# Flatten all full labels into one list so we can see what's inside the dataset.\n",
    "flat_full = [lab for L in df[\"labels_full\"] for lab in (L if isinstance(L, list) else [])]\n",
    "\n",
    "# Show which instruments appear and how often (top 20).\n",
    "print(\"Unique instruments:\", sorted(set(flat_full)))\n",
    "print(\"Counts:\", Counter(flat_full).most_common(20))"
   ]
  },
  {
   "cell_type": "markdown",
   "id": "2e88d27b",
   "metadata": {},
   "source": [
    "# Create an evaluation subset with single labels\n",
    "\n",
    "To evaluate cleanly, we keep only clips that have exactly one instrument label. Multi-instrument clips are valid data, but they complicate accuracy metrics. We extract the single label into label_single, filter out everything else, and list the unique labels we’ll evaluate.\n",
    "\n",
    "#### short summary\n",
    "\n",
    "* Keep clips with one clear instrument label\n",
    "* Build the list of labels used in evaluation"
   ]
  },
  {
   "cell_type": "code",
   "execution_count": 8,
   "id": "d5eb4f5c",
   "metadata": {},
   "outputs": [
    {
     "name": "stdout",
     "output_type": "stream",
     "text": [
      "Eval clips (single-label): 302\n",
      "Eval labels: ['acoustic guitar', 'clarinet', 'electric guitar', 'flute', 'organ', 'piano', 'saxophone', 'violin', 'voice (singing)']\n"
     ]
    }
   ],
   "source": [
    "# Make a full copy of the dataframe so we don't change the original one.\n",
    "df_eval = df.copy()\n",
    "\n",
    "# For each row, check the list of labels:\n",
    "# - If it's a list with exactly 1 label → keep that label as \"label_single\"\n",
    "# - Otherwise → mark it as None (we'll remove those later)\n",
    "df_eval[\"label_single\"] = df_eval[\"labels_full\"].apply(\n",
    "    lambda L: L[0] if isinstance(L, list) and len(L) == 1 else None\n",
    ")\n",
    "\n",
    "# Keep only rows that actually have a single label (not None).\n",
    "df_eval = df_eval[df_eval[\"label_single\"].notna()].reset_index(drop=True)\n",
    "\n",
    "# Print how many clips we’ll evaluate and which labels they cover.\n",
    "print(f\"Eval clips (single-label): {len(df_eval)}\")\n",
    "\n",
    "# Collect the unique instrument names in alphabetical order.\n",
    "labels = sorted(df_eval[\"label_single\"].unique())\n",
    "print(\"Eval labels:\", labels)\n"
   ]
  },
  {
   "cell_type": "markdown",
   "id": "d8686387",
   "metadata": {},
   "source": [
    "# Initialize AudioCLIP for inference\n",
    "\n",
    "This cell loads the pretrained AudioCLIP model and switches it into “evaluation” mode. In eval mode, layers like dropout are disabled and weights are frozen, which is exactly what we want when we’re not training. Disabling gradients further reduces memory use and speeds things up.\n",
    "\n",
    "#### short summary\n",
    "\n",
    "* Load the model from disk\n",
    "* Set it to eval mode\n",
    "* Turn off gradients (we’re not training)"
   ]
  },
  {
   "cell_type": "code",
   "execution_count": 9,
   "id": "921b765c",
   "metadata": {},
   "outputs": [],
   "source": [
    "# Load the pretrained AudioCLIP model from file.\n",
    "# This model turns audio and text into vectors that can be compared for similarity.\n",
    "aclp = AudioCLIP(pretrained=str(MODEL_FILE))\n",
    "\n",
    "# Switch to evaluation mode (so it doesn’t try to train or update weights).\n",
    "aclp.eval()\n",
    "\n",
    "# Make sure gradients are turned off (we're just using the model, not training it).\n",
    "aclp.requires_grad_(False)\n",
    "\n",
    "# Transform raw 1D audio arrays into the format the model expects (tensor normalization, etc.).\n",
    "audio_transforms = ToTensor1D()"
   ]
  },
  {
   "cell_type": "markdown",
   "id": "ebcc6640",
   "metadata": {},
   "source": [
    "# Audio → segments → embeddings (batching + optional window pooling)\n",
    "\n",
    "We turn each audio file into an **embedding vector**:\n",
    "\n",
    "* **Center segment:** For a quick pass, we take a fixed-length chunk from the middle of each file (padding/looping short files).\n",
    "* **Window pooling (optional):** For more robust results, we slide a window across the file, embed each window, and average the vectors. This captures time variation in the clip.\n",
    "* **Batching:** We process multiple files per batch to save time and memory.\n",
    "* **Normalization:** Embeddings are L2-normalized so we can use cosine similarity later.\n",
    "\n",
    "The output `A` is a tensor of shape `[num_clips, embedding_dim]`.\n",
    "\n",
    "#### short summary\n",
    "\n",
    "* Slice audio into fixed windows\n",
    "* Embed each clip (optionally average many windows)\n",
    "* Normalize and batch for speed → produce `A`"
   ]
  },
  {
   "cell_type": "code",
   "execution_count": 10,
   "id": "13397c58",
   "metadata": {},
   "outputs": [],
   "source": [
    "# These functions prepare and embed audio clips into numeric vectors using AudioCLIP.\n",
    "\n",
    "def load_seg_center(path, sr=SAMPLE_RATE, seconds=SEGMENT_SEC):\n",
    "    # Load a mono audio file as a NumPy array (float32).\n",
    "    x, _ = librosa.load(path, sr=sr, mono=True, dtype=np.float32)\n",
    "    win = int(seconds * sr)  # number of samples we want per segment\n",
    "\n",
    "    # Handle very short or empty audio files safely.\n",
    "    if len(x) == 0:\n",
    "        return np.zeros(win, dtype=np.float32)\n",
    "\n",
    "    # If the clip is shorter than the desired window, repeat it to fill the time.\n",
    "    if len(x) < win:\n",
    "        reps = int(np.ceil(win / len(x)))\n",
    "        x = np.tile(x, reps)[:win]\n",
    "    else:\n",
    "        # Otherwise, take the center segment of the clip.\n",
    "        start = max(0, (len(x) - win) // 2)\n",
    "        x = x[start:start + win]\n",
    "\n",
    "    return x\n",
    "\n",
    "@torch.no_grad()\n",
    "def audio_embed_single(track_np: np.ndarray) -> np.ndarray:\n",
    "    # Convert one audio segment (NumPy array) into an embedding vector.\n",
    "    # Steps:\n",
    "    # 1. Convert to tensor\n",
    "    # 2. Pass through AudioCLIP model\n",
    "    # 3. Take the audio features and normalize them\n",
    "    t = audio_transforms(track_np.reshape(1, -1))\n",
    "    ((a_feat, _, _), _), _ = aclp(audio=t.unsqueeze(0))  # model expects batch dim\n",
    "    a = a_feat[0]\n",
    "    a = a / a.norm()  # normalize to unit length for cosine similarity\n",
    "    return a.cpu().numpy()\n",
    "\n",
    "def embed_file_multiwin(path, sr=SAMPLE_RATE, seconds=SEGMENT_SEC, hop_sec=HOP_SEC):\n",
    "    # Break a long audio file into overlapping windows and average their embeddings.\n",
    "    # This helps capture sound changes over time and gives a more stable result.\n",
    "\n",
    "    x, _ = librosa.load(path, sr=sr, mono=True, dtype=np.float32)\n",
    "    win = int(seconds * sr)\n",
    "    hop = int(hop_sec * sr)\n",
    "\n",
    "    # If the clip is shorter than one window, just use the center segment method.\n",
    "    if len(x) < win:\n",
    "        return audio_embed_single(load_seg_center(path, sr=sr, seconds=seconds))\n",
    "\n",
    "    embs = []\n",
    "    # Slide through the file in small hops and embed each segment separately.\n",
    "    for s in range(0, len(x) - win + 1, hop):\n",
    "        seg = x[s:s + win]\n",
    "        embs.append(audio_embed_single(seg))\n",
    "\n",
    "    # Stack all segment embeddings and take their mean (average pooling).\n",
    "    E = np.stack(embs, 0)  # [num_windows, embedding_dim]\n",
    "    v = E.mean(0)\n",
    "    return (v / np.linalg.norm(v))  # normalize again\n",
    "\n",
    "def encode_audio_in_batches(paths: List[str], batch_size=BATCH_SIZE) -> torch.Tensor:\n",
    "    # Turn many audio files into embeddings in batches (to save memory).\n",
    "\n",
    "    feats = []\n",
    "    for i in range(0, len(paths), batch_size):\n",
    "        chunk = paths[i:i + batch_size]\n",
    "\n",
    "        if WINDOW_POOLING:\n",
    "            # Slower but more reliable: use multiple windows per file.\n",
    "            arr = np.stack([embed_file_multiwin(p) for p in chunk])  # [B, D]\n",
    "            feats.append(torch.from_numpy(arr))\n",
    "        else:\n",
    "            # Faster: use only the centered segment for each file.\n",
    "            tracks = [load_seg_center(p, sr=SAMPLE_RATE) for p in chunk]\n",
    "            batch = torch.stack([audio_transforms(t.reshape(1, -1)) for t in tracks])  # [B,1,T]\n",
    "            with torch.inference_mode():\n",
    "                ((a_feat, _, _), _), _ = aclp(audio=batch)  # [B, D] embeddings\n",
    "                a_feat = a_feat / torch.linalg.norm(a_feat, dim=-1, keepdim=True)\n",
    "            feats.append(a_feat.cpu())\n",
    "\n",
    "            # Clean up memory between batches.\n",
    "            del tracks, batch, a_feat\n",
    "        gc.collect()\n",
    "\n",
    "    # Combine all batches into one big tensor.\n",
    "    return torch.cat(feats, dim=0)\n"
   ]
  },
  {
   "cell_type": "code",
   "execution_count": 11,
   "id": "cb8d7a55",
   "metadata": {},
   "outputs": [
    {
     "name": "stdout",
     "output_type": "stream",
     "text": [
      "A shape: (302, 1024)\n"
     ]
    }
   ],
   "source": [
    "# Create a list of all evaluation file paths.\n",
    "paths_eval = df_eval[\"filepath\"].tolist()\n",
    "\n",
    "# Compute audio embeddings for all evaluation clips.\n",
    "# Each clip becomes one vector that represents its sound.\n",
    "A = encode_audio_in_batches(paths_eval, batch_size=BATCH_SIZE)  # [N, D] tensor\n",
    "\n",
    "# Show the shape of the result: (number_of_clips, embedding_dimension)\n",
    "print(\"A shape:\", tuple(A.shape))"
   ]
  },
  {
   "cell_type": "markdown",
   "id": "70a4f65f",
   "metadata": {},
   "source": [
    "# Text prompts (with optional ensembling) → text embeddings\n",
    "\n",
    "We convert instrument names into text embeddings that live in the same space as audio embeddings:\n",
    "\n",
    "* **Canonical phrasing:** *“the sound of a piano”*\n",
    "* **Prompt ensembling (optional):** Try several phrasings (*“a recording of…”, “{} solo”*, etc.), average their embeddings, and normalize. This often stabilizes performance.\n",
    "\n",
    "We build `T`, a matrix of one text embedding per label, aligned with the label order from the eval set.\n",
    "\n",
    "#### short summary\n",
    "\n",
    "* Turn each label into a text vector\n",
    "* Optionally average multiple phrasings\n",
    "* Stack into T to match the labels list"
   ]
  },
  {
   "cell_type": "code",
   "execution_count": 12,
   "id": "54347ab5",
   "metadata": {},
   "outputs": [],
   "source": [
    "# These are different ways to phrase a sound description.\n",
    "# Using multiple templates helps the model generalize better\n",
    "# (this is called \"prompt ensembling\").\n",
    "TEMPLATES = [\n",
    "    \"a recording of {}\",\n",
    "    \"an audio clip of {}\",\n",
    "    \"the sound of {}\",\n",
    "    \"{} solo\",\n",
    "    \"a clean recording of {}\",\n",
    "    \"a musical piece featuring {}\",\n",
    "    \"a sample of {}\",\n",
    "]\n",
    "\n",
    "@torch.no_grad()\n",
    "def text_embed(prompt: str) -> np.ndarray:\n",
    "    # Convert one text prompt into an embedding vector using AudioCLIP's text encoder.\n",
    "    # The model turns the sentence into a numeric vector that lives in the same space as audio embeddings.\n",
    "    ((_, _, t_feat), _), _ = aclp(text=make_text_tokens(prompt))\n",
    "    t = t_feat[0]\n",
    "    t = t / t.norm()  # normalize to unit length so we can use cosine similarity later\n",
    "    return t.cpu().numpy()\n",
    "\n",
    "def prompt_for_label(lbl: str) -> str:\n",
    "    # Return the “canonical” phrasing for a label if we have one.\n",
    "    # Otherwise, fall back to \"the sound of <label>\".\n",
    "    return CANONICAL.get(lbl, f\"the sound of {lbl}\")\n",
    "\n",
    "def text_embedding_for_label(lbl: str) -> np.ndarray:\n",
    "    # Turn a label like \"piano\" into its text embedding.\n",
    "    # Optionally average several phrasings (ensemble) for better robustness.\n",
    "\n",
    "    if not ENSEMBLE_PROMPTS:\n",
    "        # Simple mode: use only one canonical phrase.\n",
    "        return text_embed(prompt_for_label(lbl))\n",
    "\n",
    "    vecs = []\n",
    "    base = prompt_for_label(lbl)\n",
    "\n",
    "    # Loop over all templates, fill in the label, and embed each prompt.\n",
    "    for temp in TEMPLATES:\n",
    "        p = temp.format(lbl) if \"{}\" in temp else base\n",
    "        v = text_embed(p)\n",
    "        vecs.append(v / np.linalg.norm(v))\n",
    "\n",
    "    # Average all prompt embeddings and normalize the result.\n",
    "    v = np.mean(vecs, axis=0)\n",
    "    return v / np.linalg.norm(v)"
   ]
  },
  {
   "cell_type": "code",
   "execution_count": 13,
   "id": "598f120c",
   "metadata": {},
   "outputs": [
    {
     "name": "stdout",
     "output_type": "stream",
     "text": [
      "T shape: (9, 1024)\n"
     ]
    }
   ],
   "source": [
    "# Create one text embedding per instrument label, in the same order as `labels`.\n",
    "# This will form a matrix of shape [num_labels, embedding_dim].\n",
    "T = np.stack([text_embedding_for_label(l) for l in labels])  # [L, D]\n",
    "\n",
    "# Convert the NumPy array to a PyTorch tensor so we can compare it with the audio embeddings.\n",
    "T = torch.from_numpy(T)\n",
    "\n",
    "# Print out its shape to confirm.\n",
    "print(\"T shape:\", tuple(T.shape))"
   ]
  },
  {
   "cell_type": "markdown",
   "id": "119329e3",
   "metadata": {},
   "source": [
    "# Scores, optional calibration, and accuracy metrics\n",
    "\n",
    "We compare every audio embedding to every text embedding using a dot product (equivalent to cosine similarity after normalization). That gives a score matrix `S` with shape `[num_clips, num_labels]`.\n",
    "\n",
    "Optional score calibration:\n",
    "\n",
    "* **Row z-score:** normalize each clip’s scores to mean 0, std 1\n",
    "* **Column centering:** subtract per-label means to reduce label bias\n",
    "\n",
    "**Metrics:**\n",
    "\n",
    "* **Top-1 accuracy:** did we pick the correct label?\n",
    "* **Top-K accuracy:** was the correct label among the top K?\n",
    "* **Per-class accuracy:** how each instrument performs and how many samples it has.\n",
    "\n",
    "#### short summary\n",
    "\n",
    "* Compute audio–text similarity scores\n",
    "* (Optionally) normalize scores\n",
    "* Report Top-1/Top-K and per-instrument accuracy"
   ]
  },
  {
   "cell_type": "code",
   "execution_count": 14,
   "id": "bca782ea",
   "metadata": {},
   "outputs": [
    {
     "name": "stdout",
     "output_type": "stream",
     "text": [
      "Top-1 acc: 0.166 | Top-3 acc: 0.480\n"
     ]
    }
   ],
   "source": [
    "# Calculate how similar each audio clip is to each text label.\n",
    "# the audio embeddings (A) and the text embeddings (T).\n",
    "S = A @ T.T  # [num_clips, num_labels]\n",
    "\n",
    "# This removes bias toward clips that tend to produce larger raw similarity values.\n",
    "if ROW_ZSCORE:\n",
    "    mean = S.mean(dim=1, keepdim=True) # type: ignore\n",
    "    std  = S.std(dim=1, keepdim=True).clamp_min(1e-6)  # prevent divide-by-zero # type: ignore\n",
    "    S = (S - mean) / std\n",
    "\n",
    "# Optionally center each column (each label) so that the average score per label is zero.\n",
    "# This can remove label-specific bias (e.g., \"piano\" being over-scored overall).\n",
    "if COL_CENTER:\n",
    "    S = S - S.mean(dim=0, keepdim=True) # type: ignore\n",
    "\n",
    "# --- Evaluation metrics ---\n",
    "\n",
    "# Create a mapping from label name → numeric index.\n",
    "label_to_idx = {l: i for i, l in enumerate(labels)}\n",
    "\n",
    "# Convert the true labels of the evaluation set into numeric indices.\n",
    "y_true = df_eval[\"label_single\"].map(label_to_idx).to_numpy()\n",
    "\n",
    "# Sort the predicted scores per clip, highest to lowest, and take the top-K label indices.\n",
    "topk_idx = torch.argsort(S, dim=1, descending=True)[:, :TOPK] # type: ignore\n",
    "\n",
    "# Take the single best (top-1) predicted label per clip.\n",
    "y_pred = topk_idx[:, 0].cpu().numpy()\n",
    "\n",
    "# Compute how often the top-1 prediction is exactly correct.\n",
    "top1_acc = (y_pred == y_true).mean()\n",
    "\n",
    "# Compute how often the correct label appears *anywhere* in the top-K predictions.\n",
    "topk_acc = (topk_idx.cpu().numpy() == y_true[:, None]).any(axis=1).mean()\n",
    "\n",
    "# Print the overall accuracy results.\n",
    "print(f\"Top-1 acc: {top1_acc:.3f} | Top-{TOPK} acc: {topk_acc:.3f}\")"
   ]
  },
  {
   "cell_type": "code",
   "execution_count": 15,
   "id": "35631c29",
   "metadata": {},
   "outputs": [
    {
     "data": {
      "text/html": [
       "<div>\n",
       "<style scoped>\n",
       "    .dataframe tbody tr th:only-of-type {\n",
       "        vertical-align: middle;\n",
       "    }\n",
       "\n",
       "    .dataframe tbody tr th {\n",
       "        vertical-align: top;\n",
       "    }\n",
       "\n",
       "    .dataframe thead th {\n",
       "        text-align: right;\n",
       "    }\n",
       "</style>\n",
       "<table border=\"1\" class=\"dataframe\">\n",
       "  <thead>\n",
       "    <tr style=\"text-align: right;\">\n",
       "      <th></th>\n",
       "      <th>label</th>\n",
       "      <th>support</th>\n",
       "      <th>top1_acc</th>\n",
       "    </tr>\n",
       "  </thead>\n",
       "  <tbody>\n",
       "    <tr>\n",
       "      <th>5</th>\n",
       "      <td>piano</td>\n",
       "      <td>115</td>\n",
       "      <td>0.008696</td>\n",
       "    </tr>\n",
       "    <tr>\n",
       "      <th>0</th>\n",
       "      <td>acoustic guitar</td>\n",
       "      <td>63</td>\n",
       "      <td>0.253968</td>\n",
       "    </tr>\n",
       "    <tr>\n",
       "      <th>8</th>\n",
       "      <td>voice (singing)</td>\n",
       "      <td>60</td>\n",
       "      <td>0.316667</td>\n",
       "    </tr>\n",
       "    <tr>\n",
       "      <th>2</th>\n",
       "      <td>electric guitar</td>\n",
       "      <td>44</td>\n",
       "      <td>0.250000</td>\n",
       "    </tr>\n",
       "    <tr>\n",
       "      <th>1</th>\n",
       "      <td>clarinet</td>\n",
       "      <td>8</td>\n",
       "      <td>0.375000</td>\n",
       "    </tr>\n",
       "    <tr>\n",
       "      <th>4</th>\n",
       "      <td>organ</td>\n",
       "      <td>7</td>\n",
       "      <td>0.000000</td>\n",
       "    </tr>\n",
       "    <tr>\n",
       "      <th>3</th>\n",
       "      <td>flute</td>\n",
       "      <td>2</td>\n",
       "      <td>0.000000</td>\n",
       "    </tr>\n",
       "    <tr>\n",
       "      <th>6</th>\n",
       "      <td>saxophone</td>\n",
       "      <td>2</td>\n",
       "      <td>0.000000</td>\n",
       "    </tr>\n",
       "    <tr>\n",
       "      <th>7</th>\n",
       "      <td>violin</td>\n",
       "      <td>1</td>\n",
       "      <td>0.000000</td>\n",
       "    </tr>\n",
       "  </tbody>\n",
       "</table>\n",
       "</div>"
      ],
      "text/plain": [
       "             label  support  top1_acc\n",
       "5            piano      115  0.008696\n",
       "0  acoustic guitar       63  0.253968\n",
       "8  voice (singing)       60  0.316667\n",
       "2  electric guitar       44  0.250000\n",
       "1         clarinet        8  0.375000\n",
       "4            organ        7  0.000000\n",
       "3            flute        2  0.000000\n",
       "6        saxophone        2  0.000000\n",
       "7           violin        1  0.000000"
      ]
     },
     "execution_count": 15,
     "metadata": {},
     "output_type": "execute_result"
    }
   ],
   "source": [
    "# Per-class accuracy breakdown\n",
    "\n",
    "per_class = []\n",
    "for i, lbl in enumerate(labels):\n",
    "    # Select only the samples belonging to this label.\n",
    "    m = (y_true == i)\n",
    "    # Calculate accuracy for this class (only if there are any samples of it).\n",
    "    acc_i = float((y_pred[m] == y_true[m]).mean()) if m.any() else np.nan\n",
    "    # Store label name, number of samples, and accuracy.\n",
    "    per_class.append((lbl, int(m.sum()), acc_i))\n",
    "\n",
    "# Create a tidy table showing accuracy per instrument,\n",
    "# sorted by how many samples each has.\n",
    "metrics_df = (\n",
    "    pd.DataFrame(per_class, columns=[\"label\", \"support\", \"top1_acc\"])\n",
    "      .sort_values(\"support\", ascending=False)\n",
    ")\n",
    "metrics_df"
   ]
  },
  {
   "cell_type": "markdown",
   "id": "e5f74114",
   "metadata": {},
   "source": [
    "# Confusion matrix visualization\n",
    "\n",
    "We visualize where the model gets confused. Rows are true labels, columns are predictions. Bright off-diagonal cells show specific confusions (e.g., predicting “acoustic guitar” when the truth is “electric guitar”)."
   ]
  },
  {
   "cell_type": "code",
   "execution_count": 16,
   "id": "02d52576",
   "metadata": {},
   "outputs": [
    {
     "data": {
      "image/png": "[encoded data removed]",
      "text/plain": [
       "<Figure size 640x480 with 2 Axes>"
      ]
     },
     "metadata": {},
     "output_type": "display_data"
    }
   ],
   "source": [
    "from sklearn.metrics import confusion_matrix, ConfusionMatrixDisplay\n",
    "\n",
    "# Each row represents the true instrument, and each column shows what was predicted.\n",
    "cm = confusion_matrix(y_true, y_pred, labels=range(len(labels)))\n",
    "\n",
    "# Create a visualization object that labels the axes with instrument names.\n",
    "disp = ConfusionMatrixDisplay(cm, display_labels=labels)\n",
    "\n",
    "# Plot the confusion matrix:\n",
    "disp.plot(xticks_rotation=90, cmap=\"viridis\", values_format=\"d\")\n",
    "plt.show()"
   ]
  },
  {
   "cell_type": "markdown",
   "id": "61de07b8",
   "metadata": {},
   "source": [
    "# Pretty Top-3 table\n",
    "\n",
    "We print a compact table per clip showing:\n",
    "\n",
    "* Filename\n",
    "* True label\n",
    "* Top-3 predicted labels with softmax confidence (so the numbers are easier to interpret)"
   ]
  },
  {
   "cell_type": "code",
   "execution_count": 17,
   "id": "80cf4594",
   "metadata": {},
   "outputs": [
    {
     "name": "stdout",
     "output_type": "stream",
     "text": [
      "\n",
      "Filename                                   | True label(s)                | Top-3 predictions (confidence)\n",
      "--------------------------------------------------------------------------------------------------------------\n",
      "01 Don't Get Around Much Anymore-6.wav     | piano                        | clarinet (13.17%); acoustic guitar (12.51%); organ (11.81%)\n",
      "01 Julian Bream - Albeniz- Mallorca, Opu…  | acoustic guitar              | flute (12.34%); organ (12.17%); electric guitar (12.10%)\n",
      "01 - roads-15.wav                          | voice (singing)              | voice (singing) (18.17%); clarinet (17.01%); saxophone (13.40%)\n",
      "01 Just One Of Those Things-16.wav         | piano                        | clarinet (16.75%); organ (15.76%); violin (12.99%)\n",
      "1 - Hank's Other Bag-8.wav                 | piano                        | clarinet (17.54%); organ (16.44%); piano (12.32%)\n",
      "01 - 999-1.wav                             | electric guitar              | electric guitar (17.00%); voice (singing) (15.37%); acoustic guitar (13.65%)\n",
      "(02) dont kill the whale-4.wav             | electric guitar              | clarinet (19.34%); saxophone (15.35%); voice (singing) (10.95%)\n",
      "01. Offering-7.wav                         | organ                        | electric guitar (17.47%); voice (singing) (13.51%); acoustic guitar (12.11%)\n",
      "01 Blue Train-21.wav                       | piano                        | saxophone (18.06%); clarinet (17.25%); organ (12.79%)\n",
      "01. The Best Of Wayne Shorter - The Blue…  | piano                        | saxophone (12.44%); clarinet (11.85%); violin (11.53%)\n",
      "01) Bert Jansch - Avocet-19.wav            | acoustic guitar              | electric guitar (13.99%); acoustic guitar (13.88%); flute (11.56%)\n",
      "01 Blue Train-23.wav                       | piano                        | clarinet (14.84%); saxophone (12.84%); acoustic guitar (12.63%)\n",
      "01 - Led Zeppelin - Custard Pie-16.wav     | electric guitar              | piano (13.36%); saxophone (11.62%); electric guitar (11.60%)\n",
      "01 Julian Bream - Albeniz- Mallorca, Opu…  | acoustic guitar              | electric guitar (17.04%); acoustic guitar (13.24%); flute (12.72%)\n",
      "01. destroy everything you touch (single…  | voice (singing)              | voice (singing) (15.87%); clarinet (14.70%); saxophone (14.61%)\n",
      "01 Volunteered Slavery-1.wav               | saxophone                    | acoustic guitar (12.06%); clarinet (11.95%); organ (11.42%)\n",
      "01 Blue Train-25.wav                       | piano                        | acoustic guitar (13.61%); clarinet (12.15%); voice (singing) (11.39%)\n",
      "01 - Paganini - Eliot Fisk, Guitar - No.…  | acoustic guitar              | flute (14.43%); violin (13.51%); organ (12.06%)\n",
      "01 - Roadgame-9.wav                        | piano                        | organ (23.82%); piano (14.09%); clarinet (12.34%)\n",
      "01) Bert Jansch - Avocet-29.wav            | acoustic guitar              | electric guitar (17.68%); voice (singing) (16.25%); acoustic guitar (16.13%)\n",
      "01 - Orchids in the Moonlight-3.wav        | acoustic guitar              | acoustic guitar (13.45%); organ (12.22%); violin (11.26%)\n",
      "01. destroy everything you touch (single…  | voice (singing)              | voice (singing) (15.72%); clarinet (15.61%); saxophone (14.95%)\n",
      "01 - Da Duh Dah-11.wav                     | piano                        | clarinet (13.43%); saxophone (12.66%); organ (12.24%)\n",
      "01 - roads-23.wav                          | voice (singing)              | clarinet (19.70%); voice (singing) (14.11%); saxophone (12.38%)\n",
      "02 - And The Body Will Die-2.wav           | electric guitar              | clarinet (12.45%); saxophone (12.36%); piano (12.11%)\n",
      "01 - So What-27.wav                        | piano                        | electric guitar (15.28%); acoustic guitar (12.91%); flute (12.13%)\n",
      "01 Don't Get Around Much Anymore-4.wav     | piano                        | clarinet (17.43%); organ (13.62%); saxophone (12.65%)\n",
      "1.1_Stranger On The Shore-3.wav            | clarinet                     | electric guitar (13.04%); flute (12.48%); violin (11.35%)\n",
      "01. Caravan-3.wav                          | electric guitar              | organ (13.70%); piano (12.63%); clarinet (11.57%)\n",
      "[1] - 03 - Alexandre Lagoya - Canarios (…  | acoustic guitar              | flute (15.14%); electric guitar (14.71%); violin (11.68%)\n",
      "1.1_Stranger On The Shore-9.wav            | clarinet                     | clarinet (16.82%); saxophone (16.36%); organ (12.50%)\n",
      "(02) dont kill the whale-11.wav            | electric guitar              | saxophone (15.17%); clarinet (13.97%); acoustic guitar (11.28%)\n",
      "01 Start Making Noise-1.wav                | acoustic guitar              | flute (13.93%); organ (12.86%); electric guitar (11.54%)\n",
      "01. The Best Of Wayne Shorter - The Blue…  | piano                        | violin (12.77%); organ (12.22%); saxophone (12.18%)\n",
      "01. Caravan-10.wav                         | electric guitar              | electric guitar (18.34%); voice (singing) (16.26%); acoustic guitar (15.92%)\n",
      "01. The Best Of Wayne Shorter - The Blue…  | piano                        | clarinet (14.05%); organ (12.35%); violin (11.61%)\n",
      "01 - Honky Cat-24.wav                      | piano                        | acoustic guitar (13.23%); clarinet (12.72%); piano (11.54%)\n",
      "01 Just One Of Those Things-17.wav         | piano                        | clarinet (16.65%); organ (15.30%); saxophone (11.86%)\n",
      "01. It Don't Mean a Thing (If It Ain't G…  | piano                        | electric guitar (16.68%); flute (14.17%); acoustic guitar (12.51%)\n",
      "01. Offering-13.wav                        | organ                        | electric guitar (16.32%); voice (singing) (12.97%); acoustic guitar (12.83%)\n",
      "01- tangerine dream - kiew mission-9.wav   | voice (singing)              | electric guitar (15.31%); flute (11.96%); violin (11.26%)\n",
      "01. Flight Time-7.wav                      | piano                        | saxophone (12.78%); clarinet (12.55%); organ (12.38%)\n",
      "01 Just One Of Those Things-14.wav         | piano                        | clarinet (14.59%); violin (13.03%); organ (12.82%)\n",
      "1 - Hank's Other Bag-7.wav                 | piano                        | clarinet (18.25%); organ (15.27%); violin (12.41%)\n",
      "01 - roads-21.wav                          | voice (singing)              | clarinet (19.71%); saxophone (16.46%); voice (singing) (14.59%)\n",
      "01. In The Crease-13.wav                   | piano                        | organ (22.14%); piano (19.47%); clarinet (11.07%)\n",
      "01) Jeff Beck - Hi-Ho Silver Lining-6.wav  | electric guitar              | clarinet (17.01%); saxophone (15.11%); piano (12.04%)\n",
      "01. destroy everything you touch (single…  | voice (singing)              | voice (singing) (16.66%); acoustic guitar (13.82%); clarinet (13.18%)\n",
      "01 Julian Bream - Albeniz- Mallorca, Opu…  | acoustic guitar              | electric guitar (17.42%); flute (14.42%); acoustic guitar (12.20%)\n",
      "01) Bert Jansch - Avocet-38.wav            | acoustic guitar              | acoustic guitar (16.96%); electric guitar (14.01%); voice (singing) (12.94%)\n"
     ]
    }
   ],
   "source": [
    "from pathlib import Path as _P\n",
    "\n",
    "# Convert raw similarity scores into probabilities using softmax.\n",
    "# This makes the scores add up to 1 per clip, which helps interpret them as confidence levels.\n",
    "confidence = torch.softmax(S, dim=1) # type: ignore\n",
    "\n",
    "# Print a clean table header for the results.\n",
    "# We’ll show: filename, true label, and the model’s top-3 guesses with confidence.\n",
    "print(f\"\\n{'Filename':<42} | {'True label(s)':<28} | Top-3 predictions (confidence)\")\n",
    "print(\"-\" * 110)\n",
    "\n",
    "# Control how many examples to print (set to None to show everything).\n",
    "MAX_PRINT = 50\n",
    "rows_printed = 0\n",
    "\n",
    "# Loop through each audio clip in the evaluation set.\n",
    "for i, path in enumerate(paths_eval):\n",
    "\n",
    "    # Get the top-3 most confident predictions for this clip.\n",
    "    conf_values, ids = confidence[i].topk(3)\n",
    "\n",
    "    # Format predictions like \"piano (87.23%)\" for each of the top-3.\n",
    "    preds = [f\"{labels[j]} ({conf_values[k].item() * 100:5.2f}%)\"\n",
    "             for k, j in enumerate(ids)]\n",
    "\n",
    "    # Look up the ground-truth label.\n",
    "    true = df_eval.loc[i, \"label_single\"]\n",
    "\n",
    "    # Get just the file name (not the whole path), and shorten it if it’s too long.\n",
    "    fname = _P(path).name\n",
    "    fname = (fname[:40] + \"…\") if len(fname) > 41 else fname\n",
    "\n",
    "    # Print one line: file name | true label | top-3 predictions\n",
    "    print(f\"{fname:<42} | {true:<28} | {'; '.join(preds)}\")\n",
    "\n",
    "    rows_printed += 1\n",
    "    # Stop printing after MAX_PRINT rows (to avoid spamming the output).\n",
    "    if MAX_PRINT and rows_printed >= MAX_PRINT:\n",
    "        break"
   ]
  },
  {
   "cell_type": "markdown",
   "id": "1ae5aa93",
   "metadata": {},
   "source": [
    "# Free-text retrieval (search across any dataframe)\n",
    "\n",
    "This turns the notebook into a **search engine for sounds:**\n",
    "\n",
    "* Embed **any** dataframe’s audio into vectors (reusing the same encoder).\n",
    "* Turn a **free-text query** (e.g., “piano”, “clarinet solo”) into a text embedding. If ensembling is on, average multiple prompt phrasings.\n",
    "* Compute similarity to find the **top-K** most relevant audio files.\n",
    "* Return a tidy results table with rank, filename, true labels, and score. Optionally apply the same row-wise z-score used in evaluation to keep behavior consistent.\n",
    "\n",
    "#### short summary\n",
    "\n",
    "* Type a phrase, get matching audio clips\n",
    "* Works on eval or any other subset\n",
    "* Results include filenames, labels, and scores"
   ]
  },
  {
   "cell_type": "code",
   "execution_count": 18,
   "id": "ff7e9b74",
   "metadata": {},
   "outputs": [],
   "source": [
    "# Helper: get a readable \"true labels\" string for any dataframe.\n",
    "def _true_label_series(df_any: pd.DataFrame) -> pd.Series:\n",
    "    \"\"\"Return readable true labels (single or multi).\"\"\"\n",
    "    if \"label_single\" in df_any.columns:\n",
    "        return df_any[\"label_single\"].fillna(\"—\").astype(str)\n",
    "    elif \"labels_full\" in df_any.columns:\n",
    "        return df_any[\"labels_full\"].apply(\n",
    "            lambda L: \", \".join(L) if isinstance(L, list) and len(L) else \"—\"\n",
    "        )\n",
    "    else:\n",
    "        return pd.Series([\"—\"] * len(df_any), index=df_any.index)\n",
    "\n",
    "# Turn any dataframe with a 'filepath' column into audio embeddings.\n",
    "# This lets us run retrieval on eval data or any other split in the same way.\n",
    "def embed_df_audio(df_any: pd.DataFrame, batch_size=BATCH_SIZE) -> torch.Tensor:\n",
    "    paths = df_any[\"filepath\"].tolist()\n",
    "    return encode_audio_in_batches(paths, batch_size=batch_size)  # [N, D] torch\n",
    "\n",
    "@torch.no_grad()\n",
    "def text_embed_phrase(phrase: str) -> torch.Tensor:\n",
    "    \"\"\"Encode a free-text query using ensemble prompts if enabled.\"\"\"\n",
    "    # Convert a user’s search phrase (e.g., \"piano solo\") into a text embedding.\n",
    "    vecs = []\n",
    "    if ENSEMBLE_PROMPTS:\n",
    "        for temp in TEMPLATES:\n",
    "            p = temp.format(phrase) if \"{}\" in temp else phrase\n",
    "            v = text_embed(p)\n",
    "            vecs.append(v / np.linalg.norm(v))\n",
    "        v = np.mean(vecs, axis=0)\n",
    "        v = v / np.linalg.norm(v)\n",
    "    else:\n",
    "        v = text_embed(phrase)\n",
    "\n",
    "    # Return as a 2D tensor with batch dimension: shape [1, D]\n",
    "    return torch.from_numpy(v).unsqueeze(0)  # [1, D]\n",
    "\n",
    "def retrieve(df_any: pd.DataFrame, A_any: torch.Tensor, query: str, topk: int = 10) -> pd.DataFrame:\n",
    "    \"\"\"Return top-k ranked retrievals with filename, true label(s), and score.\"\"\"\n",
    "    # 1) Embed the free-text query (e.g., \"piano\", \"clarinet solo\").\n",
    "    t = text_embed_phrase(query)                 # [1, D]\n",
    "\n",
    "    # 2) Compute similarity between every audio embedding and the query embedding.\n",
    "    sims = (A_any @ t.T).squeeze(1)              # [N]\n",
    "\n",
    "    # 3) Optional: apply the same row-wise normalization used during evaluation.\n",
    "    #    This keeps retrieval behavior consistent with how we computed metrics.\n",
    "    if ROW_ZSCORE:\n",
    "        sims = (sims - sims.mean()) / (sims.std().clamp_min(1e-6))\n",
    "\n",
    "    # 4) Take the indices of the top-k most similar audio clips.\n",
    "    idx = torch.argsort(sims, descending=True)[:topk].cpu().numpy().tolist()\n",
    "\n",
    "    # 5) Build a small results table with rank, filename, true labels, and score.\n",
    "    out = df_any.iloc[idx].copy()\n",
    "    out[\"true_labels\"] = _true_label_series(out)\n",
    "    out[\"score\"] = sims[idx].cpu().numpy()\n",
    "    out.insert(0, \"rank\", np.arange(1, len(out) + 1))\n",
    "\n",
    "    # Show only the basename (e.g., \"file.wav\") instead of the full path.\n",
    "    out[\"filename\"] = out[\"filepath\"].apply(lambda p: Path(p).name)\n",
    "\n",
    "    return out[[\"rank\", \"filename\", \"true_labels\", \"score\"]]"
   ]
  },
  {
   "cell_type": "code",
   "execution_count": 19,
   "id": "1b31deb6",
   "metadata": {},
   "outputs": [
    {
     "data": {
      "text/plain": [
       "array(['piano', 'acoustic guitar', 'voice (singing)', 'electric guitar',\n",
       "       'organ', 'saxophone', 'clarinet', 'flute', 'violin'], dtype=object)"
      ]
     },
     "execution_count": 19,
     "metadata": {},
     "output_type": "execute_result"
    }
   ],
   "source": [
    "df_eval['label_single'].unique()"
   ]
  },
  {
   "cell_type": "code",
   "execution_count": 20,
   "id": "802b6783",
   "metadata": {},
   "outputs": [],
   "source": [
    "# Example: search for clips that sound like \"piano\" and show the top 10 matches.\n",
    "hits = retrieve(df_eval, A, query=\"violin\", topk=10)"
   ]
  },
  {
   "cell_type": "code",
   "execution_count": 21,
   "id": "049657cf",
   "metadata": {},
   "outputs": [
    {
     "name": "stdout",
     "output_type": "stream",
     "text": [
      "\n",
      "Rank | Filename                                 | True label(s)                | Score\n",
      "--------------------------------------------------------------------------------------------------------------\n",
      "1    | 01. sensing-2.wav                        | piano                        | 1.8510\n",
      "2    | 01 - La leyenda del tiempo-2.wav         | acoustic guitar              | 1.7790\n",
      "3    | 01. Helmet - Pure-12.wav                 | electric guitar              | 1.7160\n",
      "4    | 01. Caravan-11.wav                       | electric guitar              | 1.7147\n",
      "5    | 01 the other side of the crash_over-15.w… | electric guitar              | 1.6928\n",
      "6    | 01. sensing-8.wav                        | piano                        | 1.6594\n",
      "7    | 02 - synergistic perceptions-14.wav      | voice (singing)              | 1.6478\n",
      "8    | 02 - synergistic perceptions-11.wav      | voice (singing)              | 1.5811\n",
      "9    | 01. Helmet - Pure-15.wav                 | electric guitar              | 1.5611\n",
      "10   | 01-mogwai-i_m_jim_morrison_i_m_dead-cocm… | piano                        | 1.5332\n"
     ]
    }
   ],
   "source": [
    "def print_hits(hits_df: pd.DataFrame, max_rows: int = 10):\n",
    "    # Print a neat, fixed-width table for quick inspection.\n",
    "    print(f\"\\n{'Rank':<4} | {'Filename':<40} | {'True label(s)':<28} | Score\")\n",
    "    print(\"-\" * 110)\n",
    "    for _, r in hits_df.head(max_rows).iterrows():\n",
    "        fname = r[\"filename\"]\n",
    "        # Truncate very long filenames so the table stays tidy.\n",
    "        fname = (fname[:40] + \"…\") if len(fname) > 41 else fname\n",
    "        print(f\"{int(r['rank']):<4} | {fname:<40} | {r['true_labels']:<28} | {r['score']:.4f}\")\n",
    "\n",
    "# Print the retrieval results.\n",
    "print_hits(hits)"
   ]
  },
  {
   "cell_type": "markdown",
   "id": "45fe56d8",
   "metadata": {},
   "source": [
    "# 06 — Few-Shot Instrument Retrieval (Prototypes & Linear)\n",
    "Deze sectie hergebruikt AudioCLIP-embeddings en evalueert few-shot performance:\n",
    "- **Prototype classifier (Nearest Class Mean)** — geen training, robuust bij K-shot\n",
    "- **Linear classifier (Logistic Regression)** — lichtgewicht training op bevroren embeddings\n",
    "\n",
    "We gebruiken `df_eval` (single-label clips) en `A_eval` (embeddings in dezelfde volgorde)."
   ]
  },
  {
   "cell_type": "code",
   "execution_count": 34,
   "id": "e68714c7",
   "metadata": {},
   "outputs": [],
   "source": [
    "# ===== Few-shot episode sampler =====\n",
    "import numpy as np\n",
    "from collections import defaultdict\n",
    "\n",
    "# Werk met df_eval (single-label) zodat je duidelijke targets hebt\n",
    "assert \"label_single\" in df_eval.columns\n",
    "labels_all = sorted(df_eval[\"label_single\"].unique())\n",
    "\n",
    "def sample_episode(df_src, n_way=5, k_shot=5, q_per_class=5, rng=np.random.default_rng(0)):\n",
    "    \"\"\"Return indices for support/query per class.\"\"\"\n",
    "    chosen_labels = rng.choice(labels_all, size=min(n_way, len(labels_all)), replace=False)\n",
    "    support_idx, query_idx = [], []\n",
    "    for lbl in chosen_labels:\n",
    "        idxs = df_src.index[df_src[\"label_single\"] == lbl].to_numpy()\n",
    "        if len(idxs) < k_shot + q_per_class:\n",
    "            # skip classes with too few examples\n",
    "            continue\n",
    "        pick = rng.choice(idxs, size=k_shot + q_per_class, replace=False)\n",
    "        support_idx.extend(pick[:k_shot])\n",
    "        query_idx.extend(pick[k_shot:])\n",
    "    return np.array(support_idx), np.array(query_idx)\n"
   ]
  },
  {
   "cell_type": "code",
   "execution_count": 35,
   "id": "90b1b454",
   "metadata": {},
   "outputs": [],
   "source": [
    "# A_eval: embeddings voor df_eval in dezelfde volgorde als df_eval.index\n",
    "# Als je A al hebt (= encode_audio_in_batches(paths_eval)), zorg dat paths_eval == df_eval[\"filepath\"]\n",
    "paths_eval = df_eval[\"filepath\"].tolist()\n",
    "A_eval = encode_audio_in_batches(paths_eval, batch_size=BATCH_SIZE)  # torch [N, D]\n",
    "A_eval = A_eval / A_eval.norm(dim=1, keepdim=True)"
   ]
  },
  {
   "cell_type": "code",
   "execution_count": 36,
   "id": "7b0b91d4",
   "metadata": {},
   "outputs": [
    {
     "name": "stdout",
     "output_type": "stream",
     "text": [
      "Eval set: 302 clips | classes: 9\n"
     ]
    }
   ],
   "source": [
    "# ===== Few-shot config =====\n",
    "N_WAY       = 5    # aantal klassen per episode\n",
    "K_SHOT      = 5    # support samples per klasse\n",
    "Q_PER_CLASS = 8    # query samples per klasse\n",
    "EPISODES    = 50   # aantal episodes voor gemiddelde acc\n",
    "\n",
    "# Zorg dat df_eval aanwezig is (single-label)\n",
    "assert \"label_single\" in df_eval.columns and len(df_eval) > 0, \"df_eval ontbreekt of is leeg.\"\n",
    "\n",
    "# Class-index mapping (vast per notebook-run)\n",
    "class_names = sorted(df_eval[\"label_single\"].unique())\n",
    "cls2idx = {c:i for i,c in enumerate(class_names)}\n",
    "y_eval = df_eval[\"label_single\"].map(cls2idx).to_numpy()\n",
    "\n",
    "# Embeddings voor df_eval (in dezelfde volgorde)\n",
    "try:\n",
    "    A_eval  # bestaat al\n",
    "    assert A_eval.shape[0] == len(df_eval)\n",
    "except (NameError, AssertionError):\n",
    "    print(\"A_eval niet gevonden of mismatch — embeddings bouwen…\")\n",
    "    paths_eval = df_eval[\"filepath\"].tolist()\n",
    "    A_eval = encode_audio_in_batches(paths_eval, batch_size=BATCH_SIZE)\n",
    "    A_eval = A_eval / A_eval.norm(dim=1, keepdim=True)\n",
    "\n",
    "print(\"Eval set:\", len(df_eval), \"clips | classes:\", len(class_names))\n"
   ]
  },
  {
   "cell_type": "code",
   "execution_count": 37,
   "id": "f611a4f1",
   "metadata": {},
   "outputs": [],
   "source": [
    "import numpy as np\n",
    "\n",
    "def sample_episode(df_src, n_way=5, k_shot=5, q_per_class=8, rng=np.random.default_rng(0)):\n",
    "    \"\"\"Kiest n_way klassen; pakt k_shot support + q_per_class query indices per klasse.\"\"\"\n",
    "    labels_all = sorted(df_src[\"label_single\"].unique())\n",
    "    chosen = rng.choice(labels_all, size=min(n_way, len(labels_all)), replace=False)\n",
    "    support_idx, query_idx = [], []\n",
    "    for lbl in chosen:\n",
    "        idxs = df_src.index[df_src[\"label_single\"] == lbl].to_numpy()\n",
    "        if len(idxs) < (k_shot + q_per_class):\n",
    "            # klasse overslaan als te weinig voorbeelden\n",
    "            continue\n",
    "        pick = rng.choice(idxs, size=(k_shot + q_per_class), replace=False)\n",
    "        support_idx.extend(pick[:k_shot])\n",
    "        query_idx.extend(pick[k_shot:])\n",
    "    return np.array(support_idx), np.array(query_idx)\n"
   ]
  },
  {
   "cell_type": "code",
   "execution_count": 38,
   "id": "604af03c",
   "metadata": {},
   "outputs": [],
   "source": [
    "import torch\n",
    "\n",
    "@torch.no_grad()\n",
    "def proto_predict(A_feats: torch.Tensor, y: np.ndarray,\n",
    "                  support_idx: np.ndarray, query_idx: np.ndarray):\n",
    "    \"\"\"\n",
    "    A_feats: torch [N, D] in volgorde van df_eval\n",
    "    y:       np[int] class indices (0..C-1)\n",
    "    \"\"\"\n",
    "    sup_y = y[support_idx]\n",
    "    sup_X = A_feats[support_idx]                     # [S, D]\n",
    "    classes_epi = sorted(np.unique(sup_y))           # lokale klas-ID's in episode\n",
    "\n",
    "    # prototypes per klasse\n",
    "    protos = []\n",
    "    for ci in classes_epi:\n",
    "        mask = torch.from_numpy((sup_y == ci).astype(np.float32)).unsqueeze(1)  # [S,1]\n",
    "        proto = (sup_X * mask).sum(dim=0) / mask.sum()\n",
    "        proto = proto / proto.norm()\n",
    "        protos.append(proto)\n",
    "    P = torch.stack(protos, dim=0)                   # [C_epi, D]\n",
    "\n",
    "    # score queries\n",
    "    qry_X = A_feats[query_idx]                       # [Q, D]\n",
    "    S = qry_X @ P.T                                  # cosine\n",
    "    pred_local = S.argmax(dim=1).cpu().numpy()       # indices binnen episode\n",
    "\n",
    "    classes_epi = np.array(classes_epi)\n",
    "    pred_global = classes_epi[pred_local]\n",
    "    true_global = y[query_idx]\n",
    "    return pred_global, true_global, S, classes_epi\n"
   ]
  },
  {
   "cell_type": "code",
   "execution_count": 39,
   "id": "84e092ac",
   "metadata": {},
   "outputs": [
    {
     "name": "stdout",
     "output_type": "stream",
     "text": [
      "Prototype episode — Top-1 accuracy: 0.875\n"
     ]
    },
    {
     "data": {
      "image/png": "[encoded data removed]",
      "text/plain": [
       "<Figure size 640x480 with 2 Axes>"
      ]
     },
     "metadata": {},
     "output_type": "display_data"
    }
   ],
   "source": [
    "from sklearn.metrics import accuracy_score, confusion_matrix, ConfusionMatrixDisplay\n",
    "import matplotlib.pyplot as plt\n",
    "\n",
    "rng = np.random.default_rng(42)\n",
    "s_idx, q_idx = sample_episode(df_eval, n_way=N_WAY, k_shot=K_SHOT, q_per_class=Q_PER_CLASS, rng=rng)\n",
    "\n",
    "pred, true, S_epi, epi_classes = proto_predict(A_eval, y_eval, s_idx, q_idx)\n",
    "acc = accuracy_score(true, pred)\n",
    "print(f\"Prototype episode — Top-1 accuracy: {acc:.3f}\")\n",
    "\n",
    "labels_epi = [class_names[i] for i in epi_classes]\n",
    "cm = confusion_matrix(true, pred, labels=epi_classes)\n",
    "disp = ConfusionMatrixDisplay(cm, display_labels=labels_epi)\n",
    "disp.plot(xticks_rotation=45, values_format='d', cmap=\"viridis\")\n",
    "plt.show()\n"
   ]
  },
  {
   "cell_type": "code",
   "execution_count": 49,
   "id": "c966974d",
   "metadata": {},
   "outputs": [],
   "source": [
    "from pathlib import Path as _P\n",
    "import torch\n",
    "\n",
    "def pretty_print_episode(S, true, epi_classes, class_names, query_idx, df_ref, topk=3, max_print=20):\n",
    "    \"\"\"Nicely print top-k predictions for a few-shot episode.\"\"\"\n",
    "    confidence = torch.softmax(S, dim=1)  # [Q, C_epi]\n",
    "    print(f\"\\n{'Filename':<42} | {'True label':<25} | Top-{topk} predictions (confidence)\")\n",
    "    print(\"-\" * 110)\n",
    "\n",
    "    for i in range(min(len(query_idx), max_print)):\n",
    "        conf_values, ids = confidence[i].topk(topk)\n",
    "        preds = [\n",
    "            f\"{class_names[epi_classes[j]]} ({conf_values[k].item() * 100:5.2f}%)\"\n",
    "            for k, j in enumerate(ids)\n",
    "        ]\n",
    "        fname = _P(df_ref.iloc[query_idx[i]][\"filepath\"]).name\n",
    "        fname = (fname[:40] + \"…\") if len(fname) > 41 else fname\n",
    "        true_lbl = df_ref.iloc[query_idx[i]][\"label_single\"]\n",
    "        print(f\"{fname:<42} | {true_lbl:<25} | {'; '.join(preds)}\")\n"
   ]
  },
  {
   "cell_type": "code",
   "execution_count": 50,
   "id": "26c9efb2",
   "metadata": {},
   "outputs": [
    {
     "name": "stdout",
     "output_type": "stream",
     "text": [
      "\n",
      "Filename                                   | True label                | Top-3 predictions (confidence)\n",
      "--------------------------------------------------------------------------------------------------------------\n"
     ]
    },
    {
     "ename": "RuntimeError",
     "evalue": "selected index k out of range",
     "output_type": "error",
     "traceback": [
      "\u001b[31m---------------------------------------------------------------------------\u001b[39m",
      "\u001b[31mRuntimeError\u001b[39m                              Traceback (most recent call last)",
      "\u001b[36mCell\u001b[39m\u001b[36m \u001b[39m\u001b[32mIn[50]\u001b[39m\u001b[32m, line 2\u001b[39m\n\u001b[32m      1\u001b[39m \u001b[38;5;66;03m# Pretty print de top-3 voorspellingen voor deze episode\u001b[39;00m\n\u001b[32m----> \u001b[39m\u001b[32m2\u001b[39m \u001b[43mpretty_print_episode\u001b[49m\u001b[43m(\u001b[49m\u001b[43mS_epi\u001b[49m\u001b[43m,\u001b[49m\u001b[43m \u001b[49m\u001b[43mtrue\u001b[49m\u001b[43m,\u001b[49m\u001b[43m \u001b[49m\u001b[43mepi_classes\u001b[49m\u001b[43m,\u001b[49m\u001b[43m \u001b[49m\u001b[43mclass_names\u001b[49m\u001b[43m,\u001b[49m\u001b[43m \u001b[49m\u001b[43mq_idx\u001b[49m\u001b[43m,\u001b[49m\u001b[43m \u001b[49m\u001b[43mdf_eval\u001b[49m\u001b[43m,\u001b[49m\u001b[43m \u001b[49m\u001b[43mtopk\u001b[49m\u001b[43m=\u001b[49m\u001b[32;43m3\u001b[39;49m\u001b[43m,\u001b[49m\u001b[43m \u001b[49m\u001b[43mmax_print\u001b[49m\u001b[43m=\u001b[49m\u001b[32;43m15\u001b[39;49m\u001b[43m)\u001b[49m\n",
      "\u001b[36mCell\u001b[39m\u001b[36m \u001b[39m\u001b[32mIn[49]\u001b[39m\u001b[32m, line 11\u001b[39m, in \u001b[36mpretty_print_episode\u001b[39m\u001b[34m(S, true, epi_classes, class_names, query_idx, df_ref, topk, max_print)\u001b[39m\n\u001b[32m      8\u001b[39m \u001b[38;5;28mprint\u001b[39m(\u001b[33m\"\u001b[39m\u001b[33m-\u001b[39m\u001b[33m\"\u001b[39m * \u001b[32m110\u001b[39m)\n\u001b[32m     10\u001b[39m \u001b[38;5;28;01mfor\u001b[39;00m i \u001b[38;5;129;01min\u001b[39;00m \u001b[38;5;28mrange\u001b[39m(\u001b[38;5;28mmin\u001b[39m(\u001b[38;5;28mlen\u001b[39m(query_idx), max_print)):\n\u001b[32m---> \u001b[39m\u001b[32m11\u001b[39m     conf_values, ids = \u001b[43mconfidence\u001b[49m\u001b[43m[\u001b[49m\u001b[43mi\u001b[49m\u001b[43m]\u001b[49m\u001b[43m.\u001b[49m\u001b[43mtopk\u001b[49m\u001b[43m(\u001b[49m\u001b[43mtopk\u001b[49m\u001b[43m)\u001b[49m\n\u001b[32m     12\u001b[39m     preds = [\n\u001b[32m     13\u001b[39m         \u001b[33mf\u001b[39m\u001b[33m\"\u001b[39m\u001b[38;5;132;01m{\u001b[39;00mclass_names[epi_classes[j]]\u001b[38;5;132;01m}\u001b[39;00m\u001b[33m (\u001b[39m\u001b[38;5;132;01m{\u001b[39;00mconf_values[k].item()\u001b[38;5;250m \u001b[39m*\u001b[38;5;250m \u001b[39m\u001b[32m100\u001b[39m\u001b[38;5;132;01m:\u001b[39;00m\u001b[33m5.2f\u001b[39m\u001b[38;5;132;01m}\u001b[39;00m\u001b[33m%)\u001b[39m\u001b[33m\"\u001b[39m\n\u001b[32m     14\u001b[39m         \u001b[38;5;28;01mfor\u001b[39;00m k, j \u001b[38;5;129;01min\u001b[39;00m \u001b[38;5;28menumerate\u001b[39m(ids)\n\u001b[32m     15\u001b[39m     ]\n\u001b[32m     16\u001b[39m     fname = _P(df_ref.iloc[query_idx[i]][\u001b[33m\"\u001b[39m\u001b[33mfilepath\u001b[39m\u001b[33m\"\u001b[39m]).name\n",
      "\u001b[31mRuntimeError\u001b[39m: selected index k out of range"
     ]
    }
   ],
   "source": [
    "# Pretty print de top-3 voorspellingen voor deze episode\n",
    "pretty_print_episode(S_epi, true, epi_classes, class_names, q_idx, df_eval, topk=3, max_print=15)"
   ]
  },
  {
   "cell_type": "code",
   "execution_count": 40,
   "id": "a6320d76",
   "metadata": {},
   "outputs": [
    {
     "name": "stdout",
     "output_type": "stream",
     "text": [
      "Episodes: 50 | mean acc: 0.710 ± 0.182\n"
     ]
    }
   ],
   "source": [
    "def run_proto_episodes(n_episodes=50, n_way=5, k_shot=5, q_per_class=8, seed=0):\n",
    "    rng = np.random.default_rng(seed)\n",
    "    accs = []\n",
    "    for _ in range(n_episodes):\n",
    "        s_idx, q_idx = sample_episode(df_eval, n_way=n_way, k_shot=k_shot, q_per_class=q_per_class, rng=rng)\n",
    "        if len(s_idx)==0 or len(q_idx)==0:\n",
    "            continue\n",
    "        pred, true, _, _ = proto_predict(A_eval, y_eval, s_idx, q_idx)\n",
    "        accs.append(accuracy_score(true, pred))\n",
    "    return np.array(accs)\n",
    "\n",
    "accs = run_proto_episodes(n_episodes=EPISODES, n_way=N_WAY, k_shot=K_SHOT, q_per_class=Q_PER_CLASS, seed=123)\n",
    "print(f\"Episodes: {len(accs)} | mean acc: {accs.mean():.3f} ± {accs.std():.3f}\")\n"
   ]
  },
  {
   "cell_type": "code",
   "execution_count": 41,
   "id": "0828212a",
   "metadata": {},
   "outputs": [
    {
     "name": "stdout",
     "output_type": "stream",
     "text": [
      "Linear few-shot episode — Top-1 acc: 0.875\n"
     ]
    },
    {
     "name": "stderr",
     "output_type": "stream",
     "text": [
      "c:\\Users\\Esmee Werk\\Documents\\Persoonlijke Projecten\\AI-Onderzoeksvragen\\.venv\\Lib\\site-packages\\sklearn\\linear_model\\_logistic.py:1272: FutureWarning: 'multi_class' was deprecated in version 1.5 and will be removed in 1.8. From then on, it will always use 'multinomial'. Leave it to its default value to avoid this warning.\n",
      "  warnings.warn(\n"
     ]
    }
   ],
   "source": [
    "from sklearn.linear_model import LogisticRegression\n",
    "\n",
    "def linear_fewshot(A_feats: torch.Tensor, y: np.ndarray,\n",
    "                   support_idx: np.ndarray, query_idx: np.ndarray):\n",
    "    Xs = A_feats[support_idx].cpu().numpy()\n",
    "    ys = y[support_idx]\n",
    "    Xq = A_feats[query_idx].cpu().numpy()\n",
    "    yq = y[query_idx]\n",
    "\n",
    "    clf = LogisticRegression(max_iter=1000, multi_class=\"auto\", solver=\"lbfgs\")\n",
    "    clf.fit(Xs, ys)\n",
    "    pred = clf.predict(Xq)\n",
    "    return pred, yq\n",
    "\n",
    "# Voorbeeld 1 episode:\n",
    "pred_lr, true_lr = linear_fewshot(A_eval, y_eval, s_idx, q_idx)\n",
    "print(\"Linear few-shot episode — Top-1 acc:\", accuracy_score(true_lr, pred_lr))\n"
   ]
  },
  {
   "cell_type": "code",
   "execution_count": 42,
   "id": "eed07d50",
   "metadata": {},
   "outputs": [
    {
     "name": "stdout",
     "output_type": "stream",
     "text": [
      "\n",
      "Support examples:\n",
      "  acoustic guitar: ['01) Bert Jansch - Avocet-29.wav', '01 - La leyenda del tiempo-2.wav', '01) Bert Jansch - Avocet-1.wav']\n",
      "  voice (singing): ['01. destroy everything you touch (single mix)-8.wav', '01 El Patufet-7.wav', '01 Volunteered Slavery-4.wav']\n",
      "\n",
      "Query examples:\n",
      "  acoustic guitar: ['01 Start Making Noise-1.wav', '01 Julian Bream - Albeniz- Mallorca, Opus 202-20.wav', '01 Julian Bream - Albeniz- Mallorca, Opus 202-2.wav']\n",
      "  voice (singing): ['01 - roads-23.wav', '01-pet_shop_boys-minimal_(radio_edit)-gti-5.wav', '01-pet_shop_boys-minimal_(radio_edit)-gti-2.wav']\n"
     ]
    }
   ],
   "source": [
    "from pathlib import Path\n",
    "\n",
    "def show_episode_examples(df_ref, support_idx, query_idx, max_per_class=3):\n",
    "    \"\"\"Print filenames per klasse (support & query) voor snelle inspectie.\"\"\"\n",
    "    print(\"\\nSupport examples:\")\n",
    "    for ci in sorted(np.unique(df_ref.iloc[support_idx][\"label_single\"])):\n",
    "        files = df_ref[(df_ref.index.isin(support_idx)) & (df_ref[\"label_single\"]==ci)][\"filepath\"].tolist()[:max_per_class]\n",
    "        print(f\"  {ci}: {[Path(p).name for p in files]}\")\n",
    "    print(\"\\nQuery examples:\")\n",
    "    for ci in sorted(np.unique(df_ref.iloc[query_idx][\"label_single\"])):\n",
    "        files = df_ref[(df_ref.index.isin(query_idx)) & (df_ref[\"label_single\"]==ci)][\"filepath\"].tolist()[:max_per_class]\n",
    "        print(f\"  {ci}: {[Path(p).name for p in files]}\")\n",
    "\n",
    "show_episode_examples(df_eval, s_idx, q_idx, max_per_class=3)\n"
   ]
  },
  {
   "cell_type": "code",
   "execution_count": 43,
   "id": "76854a8b",
   "metadata": {},
   "outputs": [
    {
     "name": "stderr",
     "output_type": "stream",
     "text": [
      "Episodes: 100%|██████████| 100/100 [00:00<00:00, 578.44it/s]"
     ]
    },
    {
     "name": "stdout",
     "output_type": "stream",
     "text": [
      "Totaal aantal query samples geëvalueerd: 1792\n",
      "Gemiddelde accuracy: 0.682\n"
     ]
    },
    {
     "name": "stderr",
     "output_type": "stream",
     "text": [
      "\n"
     ]
    }
   ],
   "source": [
    "from tqdm import trange\n",
    "from sklearn.metrics import accuracy_score, confusion_matrix, ConfusionMatrixDisplay\n",
    "import numpy as np\n",
    "import matplotlib.pyplot as plt\n",
    "\n",
    "def run_fewshot_confmat(n_episodes=100, n_way=5, k_shot=5, q_per_class=8, seed=0):\n",
    "    rng = np.random.default_rng(seed)\n",
    "    y_true_all, y_pred_all = [], []\n",
    "    for _ in trange(n_episodes, desc=\"Episodes\"):\n",
    "        s_idx, q_idx = sample_episode(df_eval, n_way=n_way, k_shot=k_shot, q_per_class=q_per_class, rng=rng)\n",
    "        if len(s_idx)==0 or len(q_idx)==0:\n",
    "            continue\n",
    "        pred, true, _, _ = proto_predict(A_eval, y_eval, s_idx, q_idx)\n",
    "        y_true_all.extend(true)\n",
    "        y_pred_all.extend(pred)\n",
    "    return np.array(y_true_all), np.array(y_pred_all)\n",
    "\n",
    "# Run meerdere episodes en verzamel alle queryresultaten\n",
    "y_true_all, y_pred_all = run_fewshot_confmat(\n",
    "    n_episodes=100, n_way=N_WAY, k_shot=K_SHOT, q_per_class=Q_PER_CLASS, seed=123\n",
    ")\n",
    "\n",
    "print(f\"Totaal aantal query samples geëvalueerd: {len(y_true_all)}\")\n",
    "print(f\"Gemiddelde accuracy: {accuracy_score(y_true_all, y_pred_all):.3f}\")\n"
   ]
  },
  {
   "cell_type": "code",
   "execution_count": 45,
   "id": "2a970c86",
   "metadata": {},
   "outputs": [
    {
     "data": {
      "image/png": "[encoded data removed]",
      "text/plain": [
       "<Figure size 640x480 with 2 Axes>"
      ]
     },
     "metadata": {},
     "output_type": "display_data"
    }
   ],
   "source": [
    "cm = confusion_matrix(y_true_all, y_pred_all, labels=range(len(class_names)))\n",
    "disp = ConfusionMatrixDisplay(cm, display_labels=class_names)\n",
    "disp.plot(xticks_rotation=90, cmap=\"viridis\", values_format=\"d\")\n",
    "plt.title(f\"Few-Shot ({N_WAY}-way, {K_SHOT}-shot) Confusion Matrix\")\n",
    "plt.show()\n"
   ]
  }
 ],
 "metadata": {
  "kernelspec": {
   "display_name": ".venv",
   "language": "python",
   "name": "python3"
  },
  "language_info": {
   "codemirror_mode": {
    "name": "ipython",
    "version": 3
   },
   "file_extension": ".py",
   "mimetype": "text/x-python",
   "name": "python",
   "nbconvert_exporter": "python",
   "pygments_lexer": "ipython3",
   "version": "3.13.7"
  }
 },
 "nbformat": 4,
 "nbformat_minor": 5
}
